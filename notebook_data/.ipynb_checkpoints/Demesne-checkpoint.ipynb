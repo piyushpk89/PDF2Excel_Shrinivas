{
 "cells": [
  {
   "cell_type": "code",
   "execution_count": 13,
   "id": "6d511e14",
   "metadata": {},
   "outputs": [
    {
     "data": {
      "text/html": [
       "<div>\n",
       "<style scoped>\n",
       "    .dataframe tbody tr th:only-of-type {\n",
       "        vertical-align: middle;\n",
       "    }\n",
       "\n",
       "    .dataframe tbody tr th {\n",
       "        vertical-align: top;\n",
       "    }\n",
       "\n",
       "    .dataframe thead th {\n",
       "        text-align: right;\n",
       "    }\n",
       "</style>\n",
       "<table border=\"1\" class=\"dataframe\">\n",
       "  <thead>\n",
       "    <tr style=\"text-align: right;\">\n",
       "      <th></th>\n",
       "      <th>TEXT</th>\n",
       "      <th>X1</th>\n",
       "      <th>Y1</th>\n",
       "      <th>X2</th>\n",
       "      <th>Y2</th>\n",
       "      <th>block_no</th>\n",
       "      <th>line_no</th>\n",
       "    </tr>\n",
       "  </thead>\n",
       "  <tbody>\n",
       "    <tr>\n",
       "      <th>0</th>\n",
       "      <td>INVOICE</td>\n",
       "      <td>488</td>\n",
       "      <td>20</td>\n",
       "      <td>559</td>\n",
       "      <td>42</td>\n",
       "      <td>0</td>\n",
       "      <td>0</td>\n",
       "    </tr>\n",
       "    <tr>\n",
       "      <th>1</th>\n",
       "      <td>DEMESNE</td>\n",
       "      <td>19</td>\n",
       "      <td>21</td>\n",
       "      <td>78</td>\n",
       "      <td>38</td>\n",
       "      <td>0</td>\n",
       "      <td>1</td>\n",
       "    </tr>\n",
       "    <tr>\n",
       "      <th>2</th>\n",
       "      <td>ELECTRICAL</td>\n",
       "      <td>81</td>\n",
       "      <td>21</td>\n",
       "      <td>156</td>\n",
       "      <td>38</td>\n",
       "      <td>0</td>\n",
       "      <td>1</td>\n",
       "    </tr>\n",
       "    <tr>\n",
       "      <th>3</th>\n",
       "      <td>SALES</td>\n",
       "      <td>159</td>\n",
       "      <td>21</td>\n",
       "      <td>197</td>\n",
       "      <td>38</td>\n",
       "      <td>0</td>\n",
       "      <td>1</td>\n",
       "    </tr>\n",
       "    <tr>\n",
       "      <th>4</th>\n",
       "      <td>LTD</td>\n",
       "      <td>200</td>\n",
       "      <td>21</td>\n",
       "      <td>224</td>\n",
       "      <td>38</td>\n",
       "      <td>0</td>\n",
       "      <td>1</td>\n",
       "    </tr>\n",
       "    <tr>\n",
       "      <th>...</th>\n",
       "      <td>...</td>\n",
       "      <td>...</td>\n",
       "      <td>...</td>\n",
       "      <td>...</td>\n",
       "      <td>...</td>\n",
       "      <td>...</td>\n",
       "      <td>...</td>\n",
       "    </tr>\n",
       "    <tr>\n",
       "      <th>260</th>\n",
       "      <td>Account</td>\n",
       "      <td>48</td>\n",
       "      <td>802</td>\n",
       "      <td>81</td>\n",
       "      <td>814</td>\n",
       "      <td>60</td>\n",
       "      <td>0</td>\n",
       "    </tr>\n",
       "    <tr>\n",
       "      <th>261</th>\n",
       "      <td>:</td>\n",
       "      <td>83</td>\n",
       "      <td>802</td>\n",
       "      <td>86</td>\n",
       "      <td>814</td>\n",
       "      <td>60</td>\n",
       "      <td>0</td>\n",
       "    </tr>\n",
       "    <tr>\n",
       "      <th>262</th>\n",
       "      <td>83020698</td>\n",
       "      <td>89</td>\n",
       "      <td>802</td>\n",
       "      <td>130</td>\n",
       "      <td>814</td>\n",
       "      <td>60</td>\n",
       "      <td>0</td>\n",
       "    </tr>\n",
       "    <tr>\n",
       "      <th>263</th>\n",
       "      <td>Sort</td>\n",
       "      <td>132</td>\n",
       "      <td>802</td>\n",
       "      <td>149</td>\n",
       "      <td>814</td>\n",
       "      <td>60</td>\n",
       "      <td>0</td>\n",
       "    </tr>\n",
       "    <tr>\n",
       "      <th>264</th>\n",
       "      <td>Code:90-13-43</td>\n",
       "      <td>152</td>\n",
       "      <td>802</td>\n",
       "      <td>212</td>\n",
       "      <td>814</td>\n",
       "      <td>60</td>\n",
       "      <td>0</td>\n",
       "    </tr>\n",
       "  </tbody>\n",
       "</table>\n",
       "<p>265 rows × 7 columns</p>\n",
       "</div>"
      ],
      "text/plain": [
       "              TEXT   X1   Y1   X2   Y2  block_no  line_no\n",
       "0          INVOICE  488   20  559   42         0        0\n",
       "1          DEMESNE   19   21   78   38         0        1\n",
       "2       ELECTRICAL   81   21  156   38         0        1\n",
       "3            SALES  159   21  197   38         0        1\n",
       "4              LTD  200   21  224   38         0        1\n",
       "..             ...  ...  ...  ...  ...       ...      ...\n",
       "260        Account   48  802   81  814        60        0\n",
       "261              :   83  802   86  814        60        0\n",
       "262       83020698   89  802  130  814        60        0\n",
       "263           Sort  132  802  149  814        60        0\n",
       "264  Code:90-13-43  152  802  212  814        60        0\n",
       "\n",
       "[265 rows x 7 columns]"
      ]
     },
     "execution_count": 13,
     "metadata": {},
     "output_type": "execute_result"
    }
   ],
   "source": [
    "import pandas as pd\n",
    "df = pd.read_csv('../csv_data/Demesne.csv')\n",
    "\n",
    "df"
   ]
  },
  {
   "cell_type": "code",
   "execution_count": 14,
   "id": "0e412448",
   "metadata": {},
   "outputs": [
    {
     "data": {
      "text/html": [
       "<div>\n",
       "<style scoped>\n",
       "    .dataframe tbody tr th:only-of-type {\n",
       "        vertical-align: middle;\n",
       "    }\n",
       "\n",
       "    .dataframe tbody tr th {\n",
       "        vertical-align: top;\n",
       "    }\n",
       "\n",
       "    .dataframe thead th {\n",
       "        text-align: right;\n",
       "    }\n",
       "</style>\n",
       "<table border=\"1\" class=\"dataframe\">\n",
       "  <thead>\n",
       "    <tr style=\"text-align: right;\">\n",
       "      <th></th>\n",
       "      <th>TEXT</th>\n",
       "      <th>X1</th>\n",
       "      <th>Y1</th>\n",
       "      <th>X2</th>\n",
       "      <th>Y2</th>\n",
       "      <th>block_no</th>\n",
       "      <th>line_no</th>\n",
       "    </tr>\n",
       "  </thead>\n",
       "  <tbody>\n",
       "    <tr>\n",
       "      <th>0</th>\n",
       "      <td>INVOICE</td>\n",
       "      <td>488</td>\n",
       "      <td>20</td>\n",
       "      <td>559</td>\n",
       "      <td>42</td>\n",
       "      <td>0</td>\n",
       "      <td>0</td>\n",
       "    </tr>\n",
       "    <tr>\n",
       "      <th>1</th>\n",
       "      <td>DEMESNE</td>\n",
       "      <td>19</td>\n",
       "      <td>21</td>\n",
       "      <td>78</td>\n",
       "      <td>38</td>\n",
       "      <td>0</td>\n",
       "      <td>1</td>\n",
       "    </tr>\n",
       "    <tr>\n",
       "      <th>2</th>\n",
       "      <td>ELECTRICAL</td>\n",
       "      <td>81</td>\n",
       "      <td>21</td>\n",
       "      <td>156</td>\n",
       "      <td>38</td>\n",
       "      <td>0</td>\n",
       "      <td>1</td>\n",
       "    </tr>\n",
       "    <tr>\n",
       "      <th>3</th>\n",
       "      <td>SALES</td>\n",
       "      <td>159</td>\n",
       "      <td>21</td>\n",
       "      <td>197</td>\n",
       "      <td>38</td>\n",
       "      <td>0</td>\n",
       "      <td>1</td>\n",
       "    </tr>\n",
       "    <tr>\n",
       "      <th>4</th>\n",
       "      <td>LTD</td>\n",
       "      <td>200</td>\n",
       "      <td>21</td>\n",
       "      <td>224</td>\n",
       "      <td>38</td>\n",
       "      <td>0</td>\n",
       "      <td>1</td>\n",
       "    </tr>\n",
       "    <tr>\n",
       "      <th>...</th>\n",
       "      <td>...</td>\n",
       "      <td>...</td>\n",
       "      <td>...</td>\n",
       "      <td>...</td>\n",
       "      <td>...</td>\n",
       "      <td>...</td>\n",
       "      <td>...</td>\n",
       "    </tr>\n",
       "    <tr>\n",
       "      <th>260</th>\n",
       "      <td>Account</td>\n",
       "      <td>48</td>\n",
       "      <td>802</td>\n",
       "      <td>81</td>\n",
       "      <td>814</td>\n",
       "      <td>60</td>\n",
       "      <td>0</td>\n",
       "    </tr>\n",
       "    <tr>\n",
       "      <th>261</th>\n",
       "      <td>:</td>\n",
       "      <td>83</td>\n",
       "      <td>802</td>\n",
       "      <td>86</td>\n",
       "      <td>814</td>\n",
       "      <td>60</td>\n",
       "      <td>0</td>\n",
       "    </tr>\n",
       "    <tr>\n",
       "      <th>262</th>\n",
       "      <td>83020698</td>\n",
       "      <td>89</td>\n",
       "      <td>802</td>\n",
       "      <td>130</td>\n",
       "      <td>814</td>\n",
       "      <td>60</td>\n",
       "      <td>0</td>\n",
       "    </tr>\n",
       "    <tr>\n",
       "      <th>263</th>\n",
       "      <td>Sort</td>\n",
       "      <td>132</td>\n",
       "      <td>802</td>\n",
       "      <td>149</td>\n",
       "      <td>814</td>\n",
       "      <td>60</td>\n",
       "      <td>0</td>\n",
       "    </tr>\n",
       "    <tr>\n",
       "      <th>264</th>\n",
       "      <td>Code:90-13-43</td>\n",
       "      <td>152</td>\n",
       "      <td>802</td>\n",
       "      <td>212</td>\n",
       "      <td>814</td>\n",
       "      <td>60</td>\n",
       "      <td>0</td>\n",
       "    </tr>\n",
       "  </tbody>\n",
       "</table>\n",
       "<p>265 rows × 7 columns</p>\n",
       "</div>"
      ],
      "text/plain": [
       "              TEXT   X1   Y1   X2   Y2  block_no  line_no\n",
       "0          INVOICE  488   20  559   42         0        0\n",
       "1          DEMESNE   19   21   78   38         0        1\n",
       "2       ELECTRICAL   81   21  156   38         0        1\n",
       "3            SALES  159   21  197   38         0        1\n",
       "4              LTD  200   21  224   38         0        1\n",
       "..             ...  ...  ...  ...  ...       ...      ...\n",
       "260        Account   48  802   81  814        60        0\n",
       "261              :   83  802   86  814        60        0\n",
       "262       83020698   89  802  130  814        60        0\n",
       "263           Sort  132  802  149  814        60        0\n",
       "264  Code:90-13-43  152  802  212  814        60        0\n",
       "\n",
       "[265 rows x 7 columns]"
      ]
     },
     "execution_count": 14,
     "metadata": {},
     "output_type": "execute_result"
    }
   ],
   "source": [
    "df_sort= df.sort_values('Y1',ascending = True).reset_index(drop=True)\n",
    "df_sort"
   ]
  },
  {
   "cell_type": "code",
   "execution_count": 15,
   "id": "92c08aab",
   "metadata": {},
   "outputs": [],
   "source": [
    "def find_text(temp_df, text,case=False):\n",
    "    location = temp_df[temp_df['TEXT'].str.contains(text,case=case, na=False)].index.tolist()\n",
    "    return location\n",
    "\n",
    "def find_next_word(temp_df, text, nearest_text, case=False):\n",
    "    pos = find_text(temp_df,text,case=case)\n",
    "    pos = [item +1 for item in pos]\n",
    "#     print(pos)\n",
    "    new_pos = list()\n",
    "    for item in pos:\n",
    "#         temp = df.loc[]\n",
    "        temp_value= temp_df.loc[item]['TEXT']\n",
    "#         print(temp_value.lower())\n",
    "       \n",
    "        if temp_value.lower().__contains__(nearest_text.lower()):\n",
    "            new_pos.append(item-1)\n",
    "        \n",
    "    return new_pos"
   ]
  },
  {
   "cell_type": "code",
   "execution_count": 16,
   "id": "5060f0c3",
   "metadata": {},
   "outputs": [
    {
     "data": {
      "text/html": [
       "<div>\n",
       "<style scoped>\n",
       "    .dataframe tbody tr th:only-of-type {\n",
       "        vertical-align: middle;\n",
       "    }\n",
       "\n",
       "    .dataframe tbody tr th {\n",
       "        vertical-align: top;\n",
       "    }\n",
       "\n",
       "    .dataframe thead th {\n",
       "        text-align: right;\n",
       "    }\n",
       "</style>\n",
       "<table border=\"1\" class=\"dataframe\">\n",
       "  <thead>\n",
       "    <tr style=\"text-align: right;\">\n",
       "      <th></th>\n",
       "      <th>TEXT</th>\n",
       "      <th>X1</th>\n",
       "      <th>Y1</th>\n",
       "      <th>X2</th>\n",
       "      <th>Y2</th>\n",
       "      <th>block_no</th>\n",
       "      <th>line_no</th>\n",
       "    </tr>\n",
       "  </thead>\n",
       "  <tbody>\n",
       "    <tr>\n",
       "      <th>40</th>\n",
       "      <td>Invoice</td>\n",
       "      <td>380</td>\n",
       "      <td>95</td>\n",
       "      <td>410</td>\n",
       "      <td>106</td>\n",
       "      <td>12</td>\n",
       "      <td>0</td>\n",
       "    </tr>\n",
       "    <tr>\n",
       "      <th>41</th>\n",
       "      <td>Number</td>\n",
       "      <td>412</td>\n",
       "      <td>95</td>\n",
       "      <td>444</td>\n",
       "      <td>106</td>\n",
       "      <td>12</td>\n",
       "      <td>0</td>\n",
       "    </tr>\n",
       "    <tr>\n",
       "      <th>42</th>\n",
       "      <td>Account</td>\n",
       "      <td>380</td>\n",
       "      <td>104</td>\n",
       "      <td>412</td>\n",
       "      <td>115</td>\n",
       "      <td>12</td>\n",
       "      <td>1</td>\n",
       "    </tr>\n",
       "    <tr>\n",
       "      <th>43</th>\n",
       "      <td>Number</td>\n",
       "      <td>415</td>\n",
       "      <td>104</td>\n",
       "      <td>447</td>\n",
       "      <td>115</td>\n",
       "      <td>12</td>\n",
       "      <td>1</td>\n",
       "    </tr>\n",
       "  </tbody>\n",
       "</table>\n",
       "</div>"
      ],
      "text/plain": [
       "       TEXT   X1   Y1   X2   Y2  block_no  line_no\n",
       "40  Invoice  380   95  410  106        12        0\n",
       "41   Number  412   95  444  106        12        0\n",
       "42  Account  380  104  412  115        12        1\n",
       "43   Number  415  104  447  115        12        1"
      ]
     },
     "execution_count": 16,
     "metadata": {},
     "output_type": "execute_result"
    }
   ],
   "source": [
    "pos = find_text(df,'Invoice')\n",
    "\n",
    "df[pos[2]:pos[2]+4]\n",
    "# invoice_no = df[pos[0]+2:pos[0]+3]['TEXT'].values[0]"
   ]
  },
  {
   "cell_type": "code",
   "execution_count": 17,
   "id": "fd0141c5",
   "metadata": {},
   "outputs": [
    {
     "data": {
      "text/plain": [
       "'12/04/2022'"
      ]
     },
     "execution_count": 17,
     "metadata": {},
     "output_type": "execute_result"
    }
   ],
   "source": [
    "pos_date =find_text(df_sort,'date')[0]\n",
    "date = df_sort[pos_date+1:pos_date+2]['TEXT'].values[0]\n",
    "date"
   ]
  },
  {
   "cell_type": "code",
   "execution_count": 18,
   "id": "e0602742",
   "metadata": {},
   "outputs": [
    {
     "data": {
      "text/plain": [
       "[93, 222, 228, 233]"
      ]
     },
     "execution_count": 18,
     "metadata": {},
     "output_type": "execute_result"
    }
   ],
   "source": [
    "find_text(df,'VAT')"
   ]
  },
  {
   "cell_type": "code",
   "execution_count": 19,
   "id": "903836a3",
   "metadata": {},
   "outputs": [
    {
     "data": {
      "text/plain": [
       "[]"
      ]
     },
     "execution_count": 19,
     "metadata": {},
     "output_type": "execute_result"
    }
   ],
   "source": [
    "find_text(df,'Anbalysis')"
   ]
  },
  {
   "cell_type": "code",
   "execution_count": 20,
   "id": "63bee271",
   "metadata": {},
   "outputs": [
    {
     "data": {
      "text/plain": [
       "[228]"
      ]
     },
     "execution_count": 20,
     "metadata": {},
     "output_type": "execute_result"
    }
   ],
   "source": [
    "find_next_word(df,'VAT','Analysis')"
   ]
  },
  {
   "cell_type": "code",
   "execution_count": 22,
   "id": "034c1f05",
   "metadata": {},
   "outputs": [
    {
     "name": "stdout",
     "output_type": "stream",
     "text": [
      "[50]\n",
      "[228]\n"
     ]
    },
    {
     "data": {
      "text/html": [
       "<div>\n",
       "<style scoped>\n",
       "    .dataframe tbody tr th:only-of-type {\n",
       "        vertical-align: middle;\n",
       "    }\n",
       "\n",
       "    .dataframe tbody tr th {\n",
       "        vertical-align: top;\n",
       "    }\n",
       "\n",
       "    .dataframe thead th {\n",
       "        text-align: right;\n",
       "    }\n",
       "</style>\n",
       "<table border=\"1\" class=\"dataframe\">\n",
       "  <thead>\n",
       "    <tr style=\"text-align: right;\">\n",
       "      <th></th>\n",
       "      <th>TEXT</th>\n",
       "      <th>X1</th>\n",
       "      <th>Y1</th>\n",
       "      <th>X2</th>\n",
       "      <th>Y2</th>\n",
       "      <th>block_no</th>\n",
       "      <th>line_no</th>\n",
       "    </tr>\n",
       "  </thead>\n",
       "  <tbody>\n",
       "    <tr>\n",
       "      <th>50</th>\n",
       "      <td>Unit</td>\n",
       "      <td>405</td>\n",
       "      <td>328</td>\n",
       "      <td>422</td>\n",
       "      <td>339</td>\n",
       "      <td>15</td>\n",
       "      <td>3</td>\n",
       "    </tr>\n",
       "    <tr>\n",
       "      <th>51</th>\n",
       "      <td>Price</td>\n",
       "      <td>424</td>\n",
       "      <td>328</td>\n",
       "      <td>445</td>\n",
       "      <td>339</td>\n",
       "      <td>15</td>\n",
       "      <td>3</td>\n",
       "    </tr>\n",
       "    <tr>\n",
       "      <th>52</th>\n",
       "      <td>Amount</td>\n",
       "      <td>518</td>\n",
       "      <td>328</td>\n",
       "      <td>550</td>\n",
       "      <td>339</td>\n",
       "      <td>15</td>\n",
       "      <td>4</td>\n",
       "    </tr>\n",
       "    <tr>\n",
       "      <th>53</th>\n",
       "      <td>Products</td>\n",
       "      <td>212</td>\n",
       "      <td>75</td>\n",
       "      <td>243</td>\n",
       "      <td>86</td>\n",
       "      <td>16</td>\n",
       "      <td>0</td>\n",
       "    </tr>\n",
       "    <tr>\n",
       "      <th>54</th>\n",
       "      <td>remain</td>\n",
       "      <td>245</td>\n",
       "      <td>75</td>\n",
       "      <td>270</td>\n",
       "      <td>86</td>\n",
       "      <td>16</td>\n",
       "      <td>0</td>\n",
       "    </tr>\n",
       "    <tr>\n",
       "      <th>...</th>\n",
       "      <td>...</td>\n",
       "      <td>...</td>\n",
       "      <td>...</td>\n",
       "      <td>...</td>\n",
       "      <td>...</td>\n",
       "      <td>...</td>\n",
       "      <td>...</td>\n",
       "    </tr>\n",
       "    <tr>\n",
       "      <th>198</th>\n",
       "      <td>(B00846)</td>\n",
       "      <td>321</td>\n",
       "      <td>469</td>\n",
       "      <td>354</td>\n",
       "      <td>480</td>\n",
       "      <td>40</td>\n",
       "      <td>2</td>\n",
       "    </tr>\n",
       "    <tr>\n",
       "      <th>199</th>\n",
       "      <td>14.05934</td>\n",
       "      <td>414</td>\n",
       "      <td>469</td>\n",
       "      <td>447</td>\n",
       "      <td>480</td>\n",
       "      <td>40</td>\n",
       "      <td>3</td>\n",
       "    </tr>\n",
       "    <tr>\n",
       "      <th>200</th>\n",
       "      <td>84.35</td>\n",
       "      <td>534</td>\n",
       "      <td>469</td>\n",
       "      <td>554</td>\n",
       "      <td>480</td>\n",
       "      <td>40</td>\n",
       "      <td>4</td>\n",
       "    </tr>\n",
       "    <tr>\n",
       "      <th>201</th>\n",
       "      <td>25.00%</td>\n",
       "      <td>476</td>\n",
       "      <td>469</td>\n",
       "      <td>504</td>\n",
       "      <td>480</td>\n",
       "      <td>40</td>\n",
       "      <td>5</td>\n",
       "    </tr>\n",
       "    <tr>\n",
       "      <th>202</th>\n",
       "      <td>36</td>\n",
       "      <td>46</td>\n",
       "      <td>484</td>\n",
       "      <td>55</td>\n",
       "      <td>495</td>\n",
       "      <td>41</td>\n",
       "      <td>0</td>\n",
       "    </tr>\n",
       "  </tbody>\n",
       "</table>\n",
       "<p>153 rows × 7 columns</p>\n",
       "</div>"
      ],
      "text/plain": [
       "         TEXT   X1   Y1   X2   Y2  block_no  line_no\n",
       "50       Unit  405  328  422  339        15        3\n",
       "51      Price  424  328  445  339        15        3\n",
       "52     Amount  518  328  550  339        15        4\n",
       "53   Products  212   75  243   86        16        0\n",
       "54     remain  245   75  270   86        16        0\n",
       "..        ...  ...  ...  ...  ...       ...      ...\n",
       "198  (B00846)  321  469  354  480        40        2\n",
       "199  14.05934  414  469  447  480        40        3\n",
       "200     84.35  534  469  554  480        40        4\n",
       "201    25.00%  476  469  504  480        40        5\n",
       "202        36   46  484   55  495        41        0\n",
       "\n",
       "[153 rows x 7 columns]"
      ]
     },
     "execution_count": 22,
     "metadata": {},
     "output_type": "execute_result"
    }
   ],
   "source": [
    "table_start = find_next_word(df, 'Unit','Price')\n",
    "print(table_start)\n",
    "table_end = find_next_word(df, 'VAT', 'Analysis')\n",
    "print(table_end)\n",
    "table_data = df[table_start[0]:table_end[0]-25]\n",
    "table_data"
   ]
  },
  {
   "cell_type": "code",
   "execution_count": 10,
   "id": "fb0fefee",
   "metadata": {},
   "outputs": [
    {
     "ename": "NameError",
     "evalue": "name 'table_data' is not defined",
     "output_type": "error",
     "traceback": [
      "\u001b[1;31m---------------------------------------------------------------------------\u001b[0m",
      "\u001b[1;31mNameError\u001b[0m                                 Traceback (most recent call last)",
      "\u001b[1;32m~\\AppData\\Local\\Temp/ipykernel_5204/3204098926.py\u001b[0m in \u001b[0;36m<module>\u001b[1;34m\u001b[0m\n\u001b[0;32m      2\u001b[0m \u001b[0mmsg\u001b[0m \u001b[1;33m=\u001b[0m \u001b[0mdict\u001b[0m\u001b[1;33m(\u001b[0m\u001b[1;33m)\u001b[0m\u001b[1;33m\u001b[0m\u001b[1;33m\u001b[0m\u001b[0m\n\u001b[0;32m      3\u001b[0m \u001b[0mresult\u001b[0m \u001b[1;33m=\u001b[0m \u001b[0mlist\u001b[0m\u001b[1;33m(\u001b[0m\u001b[1;33m)\u001b[0m\u001b[1;33m\u001b[0m\u001b[1;33m\u001b[0m\u001b[0m\n\u001b[1;32m----> 4\u001b[1;33m \u001b[1;32mfor\u001b[0m \u001b[0mindex\u001b[0m\u001b[1;33m,\u001b[0m \u001b[0mrow\u001b[0m \u001b[1;32min\u001b[0m \u001b[0mtable_data\u001b[0m\u001b[1;33m.\u001b[0m\u001b[0miterrows\u001b[0m\u001b[1;33m(\u001b[0m\u001b[1;33m)\u001b[0m\u001b[1;33m:\u001b[0m\u001b[1;33m\u001b[0m\u001b[1;33m\u001b[0m\u001b[0m\n\u001b[0m\u001b[0;32m      5\u001b[0m     \u001b[1;32mif\u001b[0m \u001b[0mrow\u001b[0m\u001b[1;33m[\u001b[0m\u001b[1;34m'X1'\u001b[0m\u001b[1;33m]\u001b[0m \u001b[1;33m<\u001b[0m \u001b[1;36m50\u001b[0m\u001b[1;33m:\u001b[0m\u001b[1;33m\u001b[0m\u001b[1;33m\u001b[0m\u001b[0m\n\u001b[0;32m      6\u001b[0m         \u001b[0mmsg\u001b[0m \u001b[1;33m=\u001b[0m \u001b[0mdict\u001b[0m\u001b[1;33m(\u001b[0m\u001b[1;33m)\u001b[0m\u001b[1;33m\u001b[0m\u001b[1;33m\u001b[0m\u001b[0m\n",
      "\u001b[1;31mNameError\u001b[0m: name 'table_data' is not defined"
     ]
    }
   ],
   "source": [
    "from pprint import pprint\n",
    "msg = dict()\n",
    "result = list()\n",
    "for index, row in table_data.iterrows():\n",
    "    if row['X1'] < 50: \n",
    "        msg = dict()\n",
    "        print(row['TEXT'])\n",
    "        msg['item'] = row['TEXT']\n",
    "        msg['desc'] = ''\n",
    "    if ('item' in msg) and (130 < row['X1'] < 250):\n",
    "        print(row['TEXT'])\n",
    "        msg['desc'] = msg['desc'] +\" \"+ row['TEXT']\n",
    "        msg['qty'] = ''\n",
    "    if 'qty' in msg and 420 < row['X1'] < 435:\n",
    "        \n",
    "        msg['qty'] = row['TEXT']\n",
    "        msg['unit'] = 0\n",
    "    if 'unit' in msg and 440  < row['X1'] < 480:\n",
    "        msg['unit'] = row['TEXT']\n",
    "        msg['total'] = 0\n",
    "    if 'total' in msg and 480 < row['X1'] < 530:\n",
    "        print(row['TEXT'])\n",
    "        msg['total'] = row['TEXT']\n",
    "        pprint(msg)\n",
    "        result.append(msg)"
   ]
  },
  {
   "cell_type": "code",
   "execution_count": 11,
   "id": "bb548a68",
   "metadata": {},
   "outputs": [
    {
     "data": {
      "text/plain": [
       "[]"
      ]
     },
     "execution_count": 11,
     "metadata": {},
     "output_type": "execute_result"
    }
   ],
   "source": [
    "pos_good = find_text(df, 'Goods', case=True)\n",
    "pos_good"
   ]
  },
  {
   "cell_type": "code",
   "execution_count": 12,
   "id": "e4818abb",
   "metadata": {},
   "outputs": [
    {
     "data": {
      "text/plain": [
       "[247]"
      ]
     },
     "execution_count": 12,
     "metadata": {},
     "output_type": "execute_result"
    }
   ],
   "source": [
    "pos_vat = find_text(df, 'V.A.T', case=True)\n",
    "pos_vat"
   ]
  },
  {
   "cell_type": "code",
   "execution_count": 32,
   "id": "47babb74",
   "metadata": {},
   "outputs": [],
   "source": [
    "good_value = df[pos_good[1]+1:pos_good[1]+2]['TEXT'].values[0]"
   ]
  },
  {
   "cell_type": "code",
   "execution_count": 33,
   "id": "e2bc500d",
   "metadata": {},
   "outputs": [],
   "source": [
    "vat_value = df[pos_vat[1]+1:pos_vat[1]+2]['TEXT'].values[0]"
   ]
  },
  {
   "cell_type": "code",
   "execution_count": 34,
   "id": "4cd981fb",
   "metadata": {},
   "outputs": [
    {
     "data": {
      "text/plain": [
       "'€327.94'"
      ]
     },
     "execution_count": 34,
     "metadata": {},
     "output_type": "execute_result"
    }
   ],
   "source": [
    "vat_value"
   ]
  },
  {
   "cell_type": "code",
   "execution_count": 38,
   "id": "3fee3580",
   "metadata": {},
   "outputs": [
    {
     "data": {
      "text/plain": [
       "130"
      ]
     },
     "execution_count": 38,
     "metadata": {},
     "output_type": "execute_result"
    }
   ],
   "source": [
    "pos_total = find_text(df,'Total', True)[0]\n",
    "pos_total"
   ]
  },
  {
   "cell_type": "code",
   "execution_count": 43,
   "id": "2ab6f6fb",
   "metadata": {},
   "outputs": [],
   "source": [
    "total_value = df[pos_total+1:pos_total+2]['TEXT'].values[0]"
   ]
  },
  {
   "cell_type": "code",
   "execution_count": 44,
   "id": "433a4373",
   "metadata": {},
   "outputs": [
    {
     "data": {
      "text/plain": [
       "'€1753.76'"
      ]
     },
     "execution_count": 44,
     "metadata": {},
     "output_type": "execute_result"
    }
   ],
   "source": [
    "total_value"
   ]
  },
  {
   "cell_type": "code",
   "execution_count": 42,
   "id": "66cfce5d",
   "metadata": {},
   "outputs": [
    {
     "data": {
      "text/html": [
       "<div>\n",
       "<style scoped>\n",
       "    .dataframe tbody tr th:only-of-type {\n",
       "        vertical-align: middle;\n",
       "    }\n",
       "\n",
       "    .dataframe tbody tr th {\n",
       "        vertical-align: top;\n",
       "    }\n",
       "\n",
       "    .dataframe thead th {\n",
       "        text-align: right;\n",
       "    }\n",
       "</style>\n",
       "<table border=\"1\" class=\"dataframe\">\n",
       "  <thead>\n",
       "    <tr style=\"text-align: right;\">\n",
       "      <th></th>\n",
       "      <th>TEXT</th>\n",
       "      <th>X1</th>\n",
       "      <th>Y1</th>\n",
       "      <th>X2</th>\n",
       "      <th>Y2</th>\n",
       "      <th>block_no</th>\n",
       "      <th>line_no</th>\n",
       "    </tr>\n",
       "  </thead>\n",
       "  <tbody>\n",
       "    <tr>\n",
       "      <th>131</th>\n",
       "      <td>€1753.76</td>\n",
       "      <td>512</td>\n",
       "      <td>605</td>\n",
       "      <td>552</td>\n",
       "      <td>616</td>\n",
       "      <td>21</td>\n",
       "      <td>1</td>\n",
       "    </tr>\n",
       "  </tbody>\n",
       "</table>\n",
       "</div>"
      ],
      "text/plain": [
       "         TEXT   X1   Y1   X2   Y2  block_no  line_no\n",
       "131  €1753.76  512  605  552  616        21        1"
      ]
     },
     "execution_count": 42,
     "metadata": {},
     "output_type": "execute_result"
    }
   ],
   "source": []
  },
  {
   "cell_type": "code",
   "execution_count": null,
   "id": "b402a341",
   "metadata": {},
   "outputs": [],
   "source": []
  }
 ],
 "metadata": {
  "kernelspec": {
   "display_name": "Python 3 (ipykernel)",
   "language": "python",
   "name": "python3"
  },
  "language_info": {
   "codemirror_mode": {
    "name": "ipython",
    "version": 3
   },
   "file_extension": ".py",
   "mimetype": "text/x-python",
   "name": "python",
   "nbconvert_exporter": "python",
   "pygments_lexer": "ipython3",
   "version": "3.9.7"
  }
 },
 "nbformat": 4,
 "nbformat_minor": 5
}
