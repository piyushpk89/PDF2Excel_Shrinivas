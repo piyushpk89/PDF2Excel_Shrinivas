{
 "cells": [
  {
   "cell_type": "code",
   "execution_count": 14,
   "id": "6d511e14",
   "metadata": {},
   "outputs": [
    {
     "data": {
      "text/html": [
       "<div>\n",
       "<style scoped>\n",
       "    .dataframe tbody tr th:only-of-type {\n",
       "        vertical-align: middle;\n",
       "    }\n",
       "\n",
       "    .dataframe tbody tr th {\n",
       "        vertical-align: top;\n",
       "    }\n",
       "\n",
       "    .dataframe thead th {\n",
       "        text-align: right;\n",
       "    }\n",
       "</style>\n",
       "<table border=\"1\" class=\"dataframe\">\n",
       "  <thead>\n",
       "    <tr style=\"text-align: right;\">\n",
       "      <th></th>\n",
       "      <th>TEXT</th>\n",
       "      <th>X1</th>\n",
       "      <th>Y1</th>\n",
       "      <th>X2</th>\n",
       "      <th>Y2</th>\n",
       "      <th>block_no</th>\n",
       "      <th>line_no</th>\n",
       "      <th>page_no</th>\n",
       "    </tr>\n",
       "  </thead>\n",
       "  <tbody>\n",
       "    <tr>\n",
       "      <th>0</th>\n",
       "      <td>J&amp;J</td>\n",
       "      <td>194</td>\n",
       "      <td>27</td>\n",
       "      <td>238</td>\n",
       "      <td>54</td>\n",
       "      <td>0</td>\n",
       "      <td>0</td>\n",
       "      <td>1</td>\n",
       "    </tr>\n",
       "    <tr>\n",
       "      <th>1</th>\n",
       "      <td>Services</td>\n",
       "      <td>245</td>\n",
       "      <td>27</td>\n",
       "      <td>343</td>\n",
       "      <td>54</td>\n",
       "      <td>0</td>\n",
       "      <td>0</td>\n",
       "      <td>1</td>\n",
       "    </tr>\n",
       "    <tr>\n",
       "      <th>2</th>\n",
       "      <td>Ltd.</td>\n",
       "      <td>350</td>\n",
       "      <td>27</td>\n",
       "      <td>394</td>\n",
       "      <td>54</td>\n",
       "      <td>0</td>\n",
       "      <td>0</td>\n",
       "      <td>1</td>\n",
       "    </tr>\n",
       "    <tr>\n",
       "      <th>3</th>\n",
       "      <td>Carlow</td>\n",
       "      <td>266</td>\n",
       "      <td>52</td>\n",
       "      <td>296</td>\n",
       "      <td>63</td>\n",
       "      <td>1</td>\n",
       "      <td>0</td>\n",
       "      <td>1</td>\n",
       "    </tr>\n",
       "    <tr>\n",
       "      <th>4</th>\n",
       "      <td>Road</td>\n",
       "      <td>299</td>\n",
       "      <td>52</td>\n",
       "      <td>322</td>\n",
       "      <td>63</td>\n",
       "      <td>1</td>\n",
       "      <td>0</td>\n",
       "      <td>1</td>\n",
       "    </tr>\n",
       "    <tr>\n",
       "      <th>...</th>\n",
       "      <td>...</td>\n",
       "      <td>...</td>\n",
       "      <td>...</td>\n",
       "      <td>...</td>\n",
       "      <td>...</td>\n",
       "      <td>...</td>\n",
       "      <td>...</td>\n",
       "      <td>...</td>\n",
       "    </tr>\n",
       "    <tr>\n",
       "      <th>124</th>\n",
       "      <td>BIC</td>\n",
       "      <td>387</td>\n",
       "      <td>791</td>\n",
       "      <td>403</td>\n",
       "      <td>802</td>\n",
       "      <td>24</td>\n",
       "      <td>0</td>\n",
       "      <td>1</td>\n",
       "    </tr>\n",
       "    <tr>\n",
       "      <th>125</th>\n",
       "      <td>BOFIIE2D</td>\n",
       "      <td>413</td>\n",
       "      <td>791</td>\n",
       "      <td>457</td>\n",
       "      <td>802</td>\n",
       "      <td>24</td>\n",
       "      <td>0</td>\n",
       "      <td>1</td>\n",
       "    </tr>\n",
       "    <tr>\n",
       "      <th>126</th>\n",
       "      <td>1</td>\n",
       "      <td>539</td>\n",
       "      <td>148</td>\n",
       "      <td>544</td>\n",
       "      <td>159</td>\n",
       "      <td>25</td>\n",
       "      <td>0</td>\n",
       "      <td>1</td>\n",
       "    </tr>\n",
       "    <tr>\n",
       "      <th>127</th>\n",
       "      <td>of</td>\n",
       "      <td>547</td>\n",
       "      <td>148</td>\n",
       "      <td>555</td>\n",
       "      <td>159</td>\n",
       "      <td>25</td>\n",
       "      <td>0</td>\n",
       "      <td>1</td>\n",
       "    </tr>\n",
       "    <tr>\n",
       "      <th>128</th>\n",
       "      <td>1</td>\n",
       "      <td>558</td>\n",
       "      <td>148</td>\n",
       "      <td>563</td>\n",
       "      <td>159</td>\n",
       "      <td>25</td>\n",
       "      <td>0</td>\n",
       "      <td>1</td>\n",
       "    </tr>\n",
       "  </tbody>\n",
       "</table>\n",
       "<p>129 rows × 8 columns</p>\n",
       "</div>"
      ],
      "text/plain": [
       "         TEXT   X1   Y1   X2   Y2  block_no  line_no  page_no\n",
       "0         J&J  194   27  238   54         0        0        1\n",
       "1    Services  245   27  343   54         0        0        1\n",
       "2        Ltd.  350   27  394   54         0        0        1\n",
       "3      Carlow  266   52  296   63         1        0        1\n",
       "4        Road  299   52  322   63         1        0        1\n",
       "..        ...  ...  ...  ...  ...       ...      ...      ...\n",
       "124       BIC  387  791  403  802        24        0        1\n",
       "125  BOFIIE2D  413  791  457  802        24        0        1\n",
       "126         1  539  148  544  159        25        0        1\n",
       "127        of  547  148  555  159        25        0        1\n",
       "128         1  558  148  563  159        25        0        1\n",
       "\n",
       "[129 rows x 8 columns]"
      ]
     },
     "execution_count": 14,
     "metadata": {},
     "output_type": "execute_result"
    }
   ],
   "source": [
    "import pandas as pd\n",
    "df = pd.read_csv('../csv_data/J&J/J&J - IJI498708 (003).csv')\n",
    "\n",
    "df"
   ]
  },
  {
   "cell_type": "code",
   "execution_count": 15,
   "id": "92c08aab",
   "metadata": {},
   "outputs": [],
   "source": [
    "def find_text(temp_df, text,case=False):\n",
    "    location = temp_df[temp_df['TEXT'].str.contains(text,case=case, na=False)].index.tolist()\n",
    "    return location\n",
    "\n",
    "def find_next_word(temp_df, text, nearest_text, case=False):\n",
    "    pos = find_text(temp_df,text,case=case)\n",
    "    pos = [item +1 for item in pos]\n",
    "#     print(pos)\n",
    "    new_pos = list()\n",
    "    for item in pos:\n",
    "#         temp = df.loc[]\n",
    "        temp_value= temp_df.loc[item]['TEXT']\n",
    "#         print(temp_value.lower())\n",
    "       \n",
    "        if temp_value.lower().__contains__(nearest_text.lower()):\n",
    "            new_pos.append(item-1)\n",
    "        \n",
    "    return new_pos"
   ]
  },
  {
   "cell_type": "code",
   "execution_count": 16,
   "id": "5060f0c3",
   "metadata": {},
   "outputs": [
    {
     "data": {
      "text/plain": [
       "'JI498708'"
      ]
     },
     "execution_count": 16,
     "metadata": {},
     "output_type": "execute_result"
    }
   ],
   "source": [
    "pos = find_next_word(df,'Invoice', 'No:')\n",
    "invoice_no = df[pos[0]+2:pos[0]+3]['TEXT'].values[0]\n",
    "invoice_no"
   ]
  },
  {
   "cell_type": "code",
   "execution_count": 18,
   "id": "fd0141c5",
   "metadata": {},
   "outputs": [
    {
     "data": {
      "text/plain": [
       "'20/01/21'"
      ]
     },
     "execution_count": 18,
     "metadata": {},
     "output_type": "execute_result"
    }
   ],
   "source": [
    "pos_date =find_text(df,'date')[0]\n",
    "date = df[pos_date+1:pos_date+2]['TEXT'].values[0]\n",
    "date"
   ]
  },
  {
   "cell_type": "code",
   "execution_count": 19,
   "id": "034c1f05",
   "metadata": {},
   "outputs": [
    {
     "name": "stdout",
     "output_type": "stream",
     "text": [
      "[68]\n",
      "[97]\n"
     ]
    }
   ],
   "source": [
    "table_start = find_next_word(df,'qty','RRP')\n",
    "print(table_start)\n",
    "table_end = find_text(df, 'JASIC')\n",
    "print(table_end)\n",
    "table_data = df[table_start[0]:table_end[0]]\n"
   ]
  },
  {
   "cell_type": "code",
   "execution_count": 20,
   "id": "fb0fefee",
   "metadata": {
    "scrolled": true
   },
   "outputs": [
    {
     "name": "stdout",
     "output_type": "stream",
     "text": [
      "VC\n",
      "{'desc': ' Promatci Satin Black 500ml',\n",
      " 'part': ' A BLACK SATI',\n",
      " 'qty': '4',\n",
      " 'total': '19.84',\n",
      " 'unit': '4.96'}\n",
      "1\n",
      "{'desc': ' Standard Grey Primer',\n",
      " 'part': ' A GREY PRIME',\n",
      " 'qty': '6',\n",
      " 'total': '29.76',\n",
      " 'unit': '4.96'}\n",
      "1\n"
     ]
    }
   ],
   "source": [
    "from pprint import pprint\n",
    "msg = dict()\n",
    "result = list()\n",
    "for index, row in table_data.iterrows():\n",
    "    \n",
    "#     if row['X1'] < 39: \n",
    "#         msg = dict()\n",
    "#         msg['item'] = row['TEXT']\n",
    "#         msg['part'] = ''\n",
    "    if (535 <row['X1'] < 566):\n",
    "        print(row['TEXT'])\n",
    "        msg =dict()\n",
    "        msg['part'] = ''\n",
    "        \n",
    "    if ('part' in msg) and (38 < row['X1'] < 90):\n",
    "        msg['part']= msg['part'] +\" \" +row['TEXT']\n",
    "        msg['desc']= ''\n",
    "        \n",
    "    if ('desc' in msg) and (133 < row['X1'] < 250):\n",
    "        msg['desc'] = msg['desc'] +\" \"+row['TEXT']\n",
    "        msg['qty'] = ''\n",
    "\n",
    "    if ('qty' in msg) and (380 < row['X1'] < 397):\n",
    "        msg['qty'] = row['TEXT']\n",
    "        msg['unit'] = 0\n",
    "        \n",
    "    if ('unit' in msg) and (460  < row['X1'] < 482):\n",
    "        msg['unit'] = row['TEXT']\n",
    "        msg['total'] = 0\n",
    "        \n",
    "    if ('total' in msg) and (500 < row['X1'] < 530):\n",
    "        msg['total'] = row['TEXT']\n",
    "        pprint(msg)\n",
    "        result.append(msg)\n",
    "        msg=dict()\n",
    "        \n",
    "        "
   ]
  },
  {
   "cell_type": "code",
   "execution_count": 21,
   "id": "89d7097e",
   "metadata": {},
   "outputs": [
    {
     "data": {
      "text/plain": [
       "[{'part': ' A BLACK SATI',\n",
       "  'desc': ' Promatci Satin Black 500ml',\n",
       "  'qty': '4',\n",
       "  'unit': '4.96',\n",
       "  'total': '19.84'},\n",
       " {'part': ' A GREY PRIME',\n",
       "  'desc': ' Standard Grey Primer',\n",
       "  'qty': '6',\n",
       "  'unit': '4.96',\n",
       "  'total': '29.76'}]"
      ]
     },
     "execution_count": 21,
     "metadata": {},
     "output_type": "execute_result"
    }
   ],
   "source": [
    "result"
   ]
  },
  {
   "cell_type": "code",
   "execution_count": null,
   "id": "d8358d40",
   "metadata": {},
   "outputs": [],
   "source": []
  },
  {
   "cell_type": "code",
   "execution_count": null,
   "id": "0aa10ccb",
   "metadata": {},
   "outputs": [],
   "source": []
  },
  {
   "cell_type": "code",
   "execution_count": null,
   "id": "4bc1fb5d",
   "metadata": {},
   "outputs": [],
   "source": []
  }
 ],
 "metadata": {
  "kernelspec": {
   "display_name": "Python 3 (ipykernel)",
   "language": "python",
   "name": "python3"
  },
  "language_info": {
   "codemirror_mode": {
    "name": "ipython",
    "version": 3
   },
   "file_extension": ".py",
   "mimetype": "text/x-python",
   "name": "python",
   "nbconvert_exporter": "python",
   "pygments_lexer": "ipython3",
   "version": "3.9.7"
  }
 },
 "nbformat": 4,
 "nbformat_minor": 5
}
