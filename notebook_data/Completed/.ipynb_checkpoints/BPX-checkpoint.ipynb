{
 "cells": [
  {
   "cell_type": "code",
   "execution_count": 2,
   "id": "6d511e14",
   "metadata": {},
   "outputs": [
    {
     "ename": "SyntaxError",
     "evalue": "invalid syntax (Temp/ipykernel_14372/1361160622.py, line 1)",
     "output_type": "error",
     "traceback": [
      "\u001b[1;36m  File \u001b[1;32m\"C:\\Users\\Prishu\\AppData\\Local\\Temp/ipykernel_14372/1361160622.py\"\u001b[1;36m, line \u001b[1;32m1\u001b[0m\n\u001b[1;33m    from ../pdf2df import convert_to_df\u001b[0m\n\u001b[1;37m           ^\u001b[0m\n\u001b[1;31mSyntaxError\u001b[0m\u001b[1;31m:\u001b[0m invalid syntax\n"
     ]
    }
   ],
   "source": [
    "from pdf2df import convert_to_df\n",
    "df = convert_to_df('../error_pdf/BPX -  I0757541.pdf')\n",
    "df"
   ]
  },
  {
   "cell_type": "code",
   "execution_count": 19,
   "id": "92c08aab",
   "metadata": {},
   "outputs": [],
   "source": [
    "def find_text(temp_df, text,case=False):\n",
    "    location = temp_df[temp_df['TEXT'].str.contains(text,case=case, na=False)].index.tolist()\n",
    "    return location\n",
    "\n",
    "def find_next_word(temp_df, text, nearest_text, case=False):\n",
    "    pos = find_text(temp_df,text,case=case)\n",
    "    pos = [item +1 for item in pos]\n",
    "#     print(pos)\n",
    "    new_pos = list()\n",
    "    for item in pos:\n",
    "#         temp = df.loc[]\n",
    "        temp_value= temp_df.loc[item]['TEXT']\n",
    "#         print(temp_value.lower())\n",
    "       \n",
    "        if temp_value.lower().__contains__(nearest_text.lower()):\n",
    "            new_pos.append(item-1)\n",
    "        \n",
    "    return new_pos"
   ]
  },
  {
   "cell_type": "code",
   "execution_count": 20,
   "id": "5060f0c3",
   "metadata": {},
   "outputs": [
    {
     "data": {
      "text/plain": [
       "'I0655786'"
      ]
     },
     "execution_count": 20,
     "metadata": {},
     "output_type": "execute_result"
    }
   ],
   "source": [
    "pos = find_text(df,'Invoice')\n",
    "invoice_no = df[pos[0]+1:pos[0]+2]['TEXT'].values[0]\n",
    "invoice_no"
   ]
  },
  {
   "cell_type": "code",
   "execution_count": 21,
   "id": "fd0141c5",
   "metadata": {},
   "outputs": [
    {
     "data": {
      "text/plain": [
       "'18/03/20'"
      ]
     },
     "execution_count": 21,
     "metadata": {},
     "output_type": "execute_result"
    }
   ],
   "source": [
    "pos_date =find_text(df,'date')[0]\n",
    "date = df[pos_date+1:pos_date+2]['TEXT'].values[0]\n",
    "date"
   ]
  },
  {
   "cell_type": "code",
   "execution_count": 22,
   "id": "034c1f05",
   "metadata": {},
   "outputs": [
    {
     "data": {
      "text/html": [
       "<div>\n",
       "<style scoped>\n",
       "    .dataframe tbody tr th:only-of-type {\n",
       "        vertical-align: middle;\n",
       "    }\n",
       "\n",
       "    .dataframe tbody tr th {\n",
       "        vertical-align: top;\n",
       "    }\n",
       "\n",
       "    .dataframe thead th {\n",
       "        text-align: right;\n",
       "    }\n",
       "</style>\n",
       "<table border=\"1\" class=\"dataframe\">\n",
       "  <thead>\n",
       "    <tr style=\"text-align: right;\">\n",
       "      <th></th>\n",
       "      <th>TEXT</th>\n",
       "      <th>X1</th>\n",
       "      <th>Y1</th>\n",
       "      <th>X2</th>\n",
       "      <th>Y2</th>\n",
       "      <th>block_no</th>\n",
       "      <th>line_no</th>\n",
       "    </tr>\n",
       "  </thead>\n",
       "  <tbody>\n",
       "    <tr>\n",
       "      <th>147</th>\n",
       "      <td>NETT</td>\n",
       "      <td>747</td>\n",
       "      <td>199</td>\n",
       "      <td>770</td>\n",
       "      <td>211</td>\n",
       "      <td>33</td>\n",
       "      <td>7</td>\n",
       "    </tr>\n",
       "    <tr>\n",
       "      <th>148</th>\n",
       "      <td>Price</td>\n",
       "      <td>773</td>\n",
       "      <td>199</td>\n",
       "      <td>795</td>\n",
       "      <td>211</td>\n",
       "      <td>33</td>\n",
       "      <td>7</td>\n",
       "    </tr>\n",
       "    <tr>\n",
       "      <th>149</th>\n",
       "      <td>EURO</td>\n",
       "      <td>797</td>\n",
       "      <td>199</td>\n",
       "      <td>823</td>\n",
       "      <td>211</td>\n",
       "      <td>33</td>\n",
       "      <td>7</td>\n",
       "    </tr>\n",
       "    <tr>\n",
       "      <th>150</th>\n",
       "      <td>97P1SPA</td>\n",
       "      <td>17</td>\n",
       "      <td>212</td>\n",
       "      <td>56</td>\n",
       "      <td>225</td>\n",
       "      <td>34</td>\n",
       "      <td>0</td>\n",
       "    </tr>\n",
       "    <tr>\n",
       "      <th>151</th>\n",
       "      <td>Finder</td>\n",
       "      <td>237</td>\n",
       "      <td>212</td>\n",
       "      <td>263</td>\n",
       "      <td>225</td>\n",
       "      <td>34</td>\n",
       "      <td>1</td>\n",
       "    </tr>\n",
       "    <tr>\n",
       "      <th>152</th>\n",
       "      <td>-</td>\n",
       "      <td>265</td>\n",
       "      <td>212</td>\n",
       "      <td>268</td>\n",
       "      <td>225</td>\n",
       "      <td>34</td>\n",
       "      <td>1</td>\n",
       "    </tr>\n",
       "    <tr>\n",
       "      <th>153</th>\n",
       "      <td>Push-in</td>\n",
       "      <td>271</td>\n",
       "      <td>212</td>\n",
       "      <td>301</td>\n",
       "      <td>225</td>\n",
       "      <td>34</td>\n",
       "      <td>1</td>\n",
       "    </tr>\n",
       "    <tr>\n",
       "      <th>154</th>\n",
       "      <td>socket</td>\n",
       "      <td>304</td>\n",
       "      <td>212</td>\n",
       "      <td>330</td>\n",
       "      <td>225</td>\n",
       "      <td>34</td>\n",
       "      <td>1</td>\n",
       "    </tr>\n",
       "    <tr>\n",
       "      <th>155</th>\n",
       "      <td>for</td>\n",
       "      <td>332</td>\n",
       "      <td>212</td>\n",
       "      <td>343</td>\n",
       "      <td>225</td>\n",
       "      <td>34</td>\n",
       "      <td>1</td>\n",
       "    </tr>\n",
       "    <tr>\n",
       "      <th>156</th>\n",
       "      <td>46</td>\n",
       "      <td>345</td>\n",
       "      <td>212</td>\n",
       "      <td>355</td>\n",
       "      <td>225</td>\n",
       "      <td>34</td>\n",
       "      <td>1</td>\n",
       "    </tr>\n",
       "    <tr>\n",
       "      <th>157</th>\n",
       "      <td>relays</td>\n",
       "      <td>358</td>\n",
       "      <td>212</td>\n",
       "      <td>382</td>\n",
       "      <td>225</td>\n",
       "      <td>34</td>\n",
       "      <td>1</td>\n",
       "    </tr>\n",
       "    <tr>\n",
       "      <th>158</th>\n",
       "      <td>10</td>\n",
       "      <td>551</td>\n",
       "      <td>212</td>\n",
       "      <td>561</td>\n",
       "      <td>225</td>\n",
       "      <td>34</td>\n",
       "      <td>2</td>\n",
       "    </tr>\n",
       "    <tr>\n",
       "      <th>159</th>\n",
       "      <td>1.66</td>\n",
       "      <td>604</td>\n",
       "      <td>212</td>\n",
       "      <td>621</td>\n",
       "      <td>225</td>\n",
       "      <td>34</td>\n",
       "      <td>3</td>\n",
       "    </tr>\n",
       "    <tr>\n",
       "      <th>160</th>\n",
       "      <td>Each</td>\n",
       "      <td>659</td>\n",
       "      <td>212</td>\n",
       "      <td>679</td>\n",
       "      <td>225</td>\n",
       "      <td>34</td>\n",
       "      <td>4</td>\n",
       "    </tr>\n",
       "    <tr>\n",
       "      <th>161</th>\n",
       "      <td>16.60</td>\n",
       "      <td>774</td>\n",
       "      <td>212</td>\n",
       "      <td>796</td>\n",
       "      <td>225</td>\n",
       "      <td>34</td>\n",
       "      <td>5</td>\n",
       "    </tr>\n",
       "  </tbody>\n",
       "</table>\n",
       "</div>"
      ],
      "text/plain": [
       "        TEXT   X1   Y1   X2   Y2  block_no  line_no\n",
       "147     NETT  747  199  770  211        33        7\n",
       "148    Price  773  199  795  211        33        7\n",
       "149     EURO  797  199  823  211        33        7\n",
       "150  97P1SPA   17  212   56  225        34        0\n",
       "151   Finder  237  212  263  225        34        1\n",
       "152        -  265  212  268  225        34        1\n",
       "153  Push-in  271  212  301  225        34        1\n",
       "154   socket  304  212  330  225        34        1\n",
       "155      for  332  212  343  225        34        1\n",
       "156       46  345  212  355  225        34        1\n",
       "157   relays  358  212  382  225        34        1\n",
       "158       10  551  212  561  225        34        2\n",
       "159     1.66  604  212  621  225        34        3\n",
       "160     Each  659  212  679  225        34        4\n",
       "161    16.60  774  212  796  225        34        5"
      ]
     },
     "execution_count": 22,
     "metadata": {},
     "output_type": "execute_result"
    }
   ],
   "source": [
    "table_start = find_next_word(df,'nett','price')\n",
    "table_end = find_text(df, 'comment')\n",
    "table_data = df[table_start[0]:table_end[0]]\n",
    "table_data"
   ]
  },
  {
   "cell_type": "code",
   "execution_count": 28,
   "id": "fb0fefee",
   "metadata": {},
   "outputs": [
    {
     "name": "stdout",
     "output_type": "stream",
     "text": [
      "97P1SPA\n",
      "Finder\n",
      "-\n",
      "Push-in\n",
      "socket\n",
      "for\n",
      "46\n",
      "relays\n",
      "10\n",
      "1.66\n",
      "16.60\n",
      "{'desc': ' Finder - Push-in socket for 46 relays',\n",
      " 'disc': 0,\n",
      " 'part': '97P1SPA',\n",
      " 'qty': '10',\n",
      " 'total': '16.60',\n",
      " 'unit': '1.66'}\n"
     ]
    }
   ],
   "source": [
    "from pprint import pprint\n",
    "msg = dict()\n",
    "result = list()\n",
    "for index, row in table_data.iterrows():\n",
    "#     print(row['TEXT'])\n",
    "    if row['X1'] < 20: \n",
    "        msg = dict()\n",
    "        msg['part'] = row['TEXT']\n",
    "        print(row['TEXT'])\n",
    "        msg['desc'] = ''\n",
    "        \n",
    "    if ('part' in msg) and (200 < row['X1'] < 450):\n",
    "        msg['desc'] = msg['desc'] +\" \"+ row['TEXT']\n",
    "        print(row['TEXT'])\n",
    "        msg['qty'] = ''\n",
    "    if 'qty' in msg and 500 < row['X1'] < 560:\n",
    "        msg['qty'] = row['TEXT']\n",
    "        print(row['TEXT'])\n",
    "        msg['unit'] = 0\n",
    "    if 'unit' in msg and 580 < row['X1'] < 640:\n",
    "        msg['unit'] = row['TEXT']\n",
    "        print(row['TEXT'])\n",
    "        msg['disc'] = 0\n",
    "        msg['total'] = 0\n",
    "    if 'disc' in msg and 680 < row['X1'] < 730:\n",
    "        msg['disc'] = row['TEXT']\n",
    "        print(row['TEXT'])\n",
    "        msg['total'] = 0\n",
    "        \n",
    "    if 'total' in msg and 720 < row['X1'] < 800:\n",
    "        msg['total'] = row['TEXT']\n",
    "        print(row['TEXT'])\n",
    "        pprint(msg)\n",
    "        result.append(msg)"
   ]
  },
  {
   "cell_type": "code",
   "execution_count": 24,
   "id": "bb548a68",
   "metadata": {},
   "outputs": [
    {
     "name": "stdout",
     "output_type": "stream",
     "text": [
      "[]\n"
     ]
    }
   ],
   "source": [
    "print(result)"
   ]
  },
  {
   "cell_type": "code",
   "execution_count": null,
   "id": "e4818abb",
   "metadata": {},
   "outputs": [],
   "source": []
  }
 ],
 "metadata": {
  "kernelspec": {
   "display_name": "Python 3 (ipykernel)",
   "language": "python",
   "name": "python3"
  },
  "language_info": {
   "codemirror_mode": {
    "name": "ipython",
    "version": 3
   },
   "file_extension": ".py",
   "mimetype": "text/x-python",
   "name": "python",
   "nbconvert_exporter": "python",
   "pygments_lexer": "ipython3",
   "version": "3.9.7"
  }
 },
 "nbformat": 4,
 "nbformat_minor": 5
}
