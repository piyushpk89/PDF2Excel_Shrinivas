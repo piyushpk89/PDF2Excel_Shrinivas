{
 "cells": [
  {
   "cell_type": "code",
   "execution_count": 30,
   "id": "6d511e14",
   "metadata": {},
   "outputs": [
    {
     "data": {
      "text/html": [
       "<div>\n",
       "<style scoped>\n",
       "    .dataframe tbody tr th:only-of-type {\n",
       "        vertical-align: middle;\n",
       "    }\n",
       "\n",
       "    .dataframe tbody tr th {\n",
       "        vertical-align: top;\n",
       "    }\n",
       "\n",
       "    .dataframe thead th {\n",
       "        text-align: right;\n",
       "    }\n",
       "</style>\n",
       "<table border=\"1\" class=\"dataframe\">\n",
       "  <thead>\n",
       "    <tr style=\"text-align: right;\">\n",
       "      <th></th>\n",
       "      <th>TEXT</th>\n",
       "      <th>X1</th>\n",
       "      <th>Y1</th>\n",
       "      <th>X2</th>\n",
       "      <th>Y2</th>\n",
       "      <th>block_no</th>\n",
       "      <th>line_no</th>\n",
       "    </tr>\n",
       "  </thead>\n",
       "  <tbody>\n",
       "    <tr>\n",
       "      <th>0</th>\n",
       "      <td>CASH</td>\n",
       "      <td>383</td>\n",
       "      <td>20</td>\n",
       "      <td>427</td>\n",
       "      <td>42</td>\n",
       "      <td>0</td>\n",
       "      <td>0</td>\n",
       "    </tr>\n",
       "    <tr>\n",
       "      <th>1</th>\n",
       "      <td>SALES</td>\n",
       "      <td>431</td>\n",
       "      <td>20</td>\n",
       "      <td>482</td>\n",
       "      <td>42</td>\n",
       "      <td>0</td>\n",
       "      <td>0</td>\n",
       "    </tr>\n",
       "    <tr>\n",
       "      <th>2</th>\n",
       "      <td>INVOICE</td>\n",
       "      <td>486</td>\n",
       "      <td>20</td>\n",
       "      <td>557</td>\n",
       "      <td>42</td>\n",
       "      <td>0</td>\n",
       "      <td>0</td>\n",
       "    </tr>\n",
       "    <tr>\n",
       "      <th>3</th>\n",
       "      <td>DEMESNE</td>\n",
       "      <td>19</td>\n",
       "      <td>21</td>\n",
       "      <td>78</td>\n",
       "      <td>38</td>\n",
       "      <td>0</td>\n",
       "      <td>1</td>\n",
       "    </tr>\n",
       "    <tr>\n",
       "      <th>4</th>\n",
       "      <td>ELECTRICAL</td>\n",
       "      <td>81</td>\n",
       "      <td>21</td>\n",
       "      <td>156</td>\n",
       "      <td>38</td>\n",
       "      <td>0</td>\n",
       "      <td>1</td>\n",
       "    </tr>\n",
       "    <tr>\n",
       "      <th>...</th>\n",
       "      <td>...</td>\n",
       "      <td>...</td>\n",
       "      <td>...</td>\n",
       "      <td>...</td>\n",
       "      <td>...</td>\n",
       "      <td>...</td>\n",
       "      <td>...</td>\n",
       "    </tr>\n",
       "    <tr>\n",
       "      <th>244</th>\n",
       "      <td>Duncrue</td>\n",
       "      <td>416</td>\n",
       "      <td>766</td>\n",
       "      <td>450</td>\n",
       "      <td>777</td>\n",
       "      <td>59</td>\n",
       "      <td>1</td>\n",
       "    </tr>\n",
       "    <tr>\n",
       "      <th>245</th>\n",
       "      <td>Street</td>\n",
       "      <td>453</td>\n",
       "      <td>766</td>\n",
       "      <td>478</td>\n",
       "      <td>777</td>\n",
       "      <td>59</td>\n",
       "      <td>1</td>\n",
       "    </tr>\n",
       "    <tr>\n",
       "      <th>246</th>\n",
       "      <td>Belfast</td>\n",
       "      <td>404</td>\n",
       "      <td>776</td>\n",
       "      <td>432</td>\n",
       "      <td>787</td>\n",
       "      <td>59</td>\n",
       "      <td>2</td>\n",
       "    </tr>\n",
       "    <tr>\n",
       "      <th>247</th>\n",
       "      <td>BT3</td>\n",
       "      <td>434</td>\n",
       "      <td>776</td>\n",
       "      <td>450</td>\n",
       "      <td>787</td>\n",
       "      <td>59</td>\n",
       "      <td>2</td>\n",
       "    </tr>\n",
       "    <tr>\n",
       "      <th>248</th>\n",
       "      <td>9AR</td>\n",
       "      <td>452</td>\n",
       "      <td>776</td>\n",
       "      <td>469</td>\n",
       "      <td>787</td>\n",
       "      <td>59</td>\n",
       "      <td>2</td>\n",
       "    </tr>\n",
       "  </tbody>\n",
       "</table>\n",
       "<p>249 rows × 7 columns</p>\n",
       "</div>"
      ],
      "text/plain": [
       "           TEXT   X1   Y1   X2   Y2  block_no  line_no\n",
       "0          CASH  383   20  427   42         0        0\n",
       "1         SALES  431   20  482   42         0        0\n",
       "2       INVOICE  486   20  557   42         0        0\n",
       "3       DEMESNE   19   21   78   38         0        1\n",
       "4    ELECTRICAL   81   21  156   38         0        1\n",
       "..          ...  ...  ...  ...  ...       ...      ...\n",
       "244     Duncrue  416  766  450  777        59        1\n",
       "245      Street  453  766  478  777        59        1\n",
       "246     Belfast  404  776  432  787        59        2\n",
       "247         BT3  434  776  450  787        59        2\n",
       "248         9AR  452  776  469  787        59        2\n",
       "\n",
       "[249 rows x 7 columns]"
      ]
     },
     "execution_count": 30,
     "metadata": {},
     "output_type": "execute_result"
    }
   ],
   "source": [
    "import pandas as pd\n",
    "df = pd.read_csv('../csv_data/demesne_v2.csv')\n",
    "df"
   ]
  },
  {
   "cell_type": "code",
   "execution_count": 35,
   "id": "da1e97a0",
   "metadata": {},
   "outputs": [],
   "source": [
    "df_sort= df.sort_values(by=['Y1','X1']).reset_index(drop=True)\n"
   ]
  },
  {
   "cell_type": "code",
   "execution_count": 36,
   "id": "933d8153",
   "metadata": {},
   "outputs": [
    {
     "data": {
      "text/html": [
       "<div>\n",
       "<style scoped>\n",
       "    .dataframe tbody tr th:only-of-type {\n",
       "        vertical-align: middle;\n",
       "    }\n",
       "\n",
       "    .dataframe tbody tr th {\n",
       "        vertical-align: top;\n",
       "    }\n",
       "\n",
       "    .dataframe thead th {\n",
       "        text-align: right;\n",
       "    }\n",
       "</style>\n",
       "<table border=\"1\" class=\"dataframe\">\n",
       "  <thead>\n",
       "    <tr style=\"text-align: right;\">\n",
       "      <th></th>\n",
       "      <th>TEXT</th>\n",
       "      <th>X1</th>\n",
       "      <th>Y1</th>\n",
       "      <th>X2</th>\n",
       "      <th>Y2</th>\n",
       "      <th>block_no</th>\n",
       "      <th>line_no</th>\n",
       "    </tr>\n",
       "  </thead>\n",
       "  <tbody>\n",
       "    <tr>\n",
       "      <th>118</th>\n",
       "      <td>VAT</td>\n",
       "      <td>77</td>\n",
       "      <td>529</td>\n",
       "      <td>93</td>\n",
       "      <td>540</td>\n",
       "      <td>34</td>\n",
       "      <td>0</td>\n",
       "    </tr>\n",
       "    <tr>\n",
       "      <th>119</th>\n",
       "      <td>Analysis</td>\n",
       "      <td>96</td>\n",
       "      <td>529</td>\n",
       "      <td>129</td>\n",
       "      <td>540</td>\n",
       "      <td>34</td>\n",
       "      <td>0</td>\n",
       "    </tr>\n",
       "    <tr>\n",
       "      <th>120</th>\n",
       "      <td>Rate</td>\n",
       "      <td>33</td>\n",
       "      <td>539</td>\n",
       "      <td>52</td>\n",
       "      <td>550</td>\n",
       "      <td>35</td>\n",
       "      <td>0</td>\n",
       "    </tr>\n",
       "    <tr>\n",
       "      <th>121</th>\n",
       "      <td>Net</td>\n",
       "      <td>84</td>\n",
       "      <td>539</td>\n",
       "      <td>98</td>\n",
       "      <td>550</td>\n",
       "      <td>35</td>\n",
       "      <td>1</td>\n",
       "    </tr>\n",
       "    <tr>\n",
       "      <th>122</th>\n",
       "      <td>Total</td>\n",
       "      <td>101</td>\n",
       "      <td>539</td>\n",
       "      <td>121</td>\n",
       "      <td>550</td>\n",
       "      <td>35</td>\n",
       "      <td>1</td>\n",
       "    </tr>\n",
       "  </tbody>\n",
       "</table>\n",
       "</div>"
      ],
      "text/plain": [
       "         TEXT   X1   Y1   X2   Y2  block_no  line_no\n",
       "118       VAT   77  529   93  540        34        0\n",
       "119  Analysis   96  529  129  540        34        0\n",
       "120      Rate   33  539   52  550        35        0\n",
       "121       Net   84  539   98  550        35        1\n",
       "122     Total  101  539  121  550        35        1"
      ]
     },
     "execution_count": 36,
     "metadata": {},
     "output_type": "execute_result"
    }
   ],
   "source": [
    "pos = find_text(df,'VAT')\n",
    "df[pos[1]:pos[1]+5]"
   ]
  },
  {
   "cell_type": "code",
   "execution_count": null,
   "id": "06f915b4",
   "metadata": {},
   "outputs": [],
   "source": []
  },
  {
   "cell_type": "code",
   "execution_count": 18,
   "id": "0e412448",
   "metadata": {},
   "outputs": [],
   "source": [
    "df_sort= df.sort_values(by=['Y1','X1']).reset_index(drop=True)\n"
   ]
  },
  {
   "cell_type": "code",
   "execution_count": 37,
   "id": "097b5915",
   "metadata": {},
   "outputs": [],
   "source": [
    "def rearrange(df):\n",
    "    for i in range(1, len(df)):\n",
    "        temp=df.loc[i,'Y1'] - df.loc[i-1, 'Y1']\n",
    "        if -5 < temp < 10:\n",
    "            df.loc[i,'Y1'] = df.loc[i-1,'Y1']\n",
    "    \n",
    "    return df.sort_values(by=['Y1','X1']).reset_index(drop=True)\n",
    "    "
   ]
  },
  {
   "cell_type": "code",
   "execution_count": 38,
   "id": "38b23c96",
   "metadata": {},
   "outputs": [],
   "source": [
    "df = rearrange(df_sort)"
   ]
  },
  {
   "cell_type": "code",
   "execution_count": 39,
   "id": "92c08aab",
   "metadata": {},
   "outputs": [],
   "source": [
    "def find_text(temp_df, text,case=False):\n",
    "    location = temp_df[temp_df['TEXT'].str.contains(text,case=case, na=False)].index.tolist()\n",
    "    return location\n",
    "\n",
    "def find_next_word(temp_df, text, nearest_text, case=False):\n",
    "    pos = find_text(temp_df,text,case=case)\n",
    "    pos = [item +1 for item in pos]\n",
    "#     print(pos)\n",
    "    new_pos = list()\n",
    "    for item in pos:\n",
    "#         temp = df.loc[]\n",
    "        temp_value= temp_df.loc[item]['TEXT']\n",
    "#         print(temp_value.lower())\n",
    "       \n",
    "        if temp_value.lower().__contains__(nearest_text.lower()):\n",
    "            new_pos.append(item-1)\n",
    "        \n",
    "    return new_pos"
   ]
  },
  {
   "cell_type": "code",
   "execution_count": null,
   "id": "a4d00300",
   "metadata": {},
   "outputs": [],
   "source": []
  },
  {
   "cell_type": "code",
   "execution_count": 40,
   "id": "5060f0c3",
   "metadata": {},
   "outputs": [
    {
     "data": {
      "text/plain": [
       "'998114'"
      ]
     },
     "execution_count": 40,
     "metadata": {},
     "output_type": "execute_result"
    }
   ],
   "source": [
    "pos = find_text(df,'Invoice')\n",
    "\n",
    "df[pos[2]+2:pos[2]+4]['TEXT'].values[0]\n",
    "# invoice_no = df[pos[0]+2:pos[0]+3]['TEXT'].values[0]"
   ]
  },
  {
   "cell_type": "code",
   "execution_count": null,
   "id": "a79a2c2e",
   "metadata": {},
   "outputs": [],
   "source": []
  },
  {
   "cell_type": "code",
   "execution_count": 41,
   "id": "fd0141c5",
   "metadata": {},
   "outputs": [
    {
     "data": {
      "text/plain": [
       "'07/04/2020'"
      ]
     },
     "execution_count": 41,
     "metadata": {},
     "output_type": "execute_result"
    }
   ],
   "source": [
    "pos_date =find_text(df, 'date')[0]\n",
    "date = df[pos_date+1:pos_date+2]['TEXT'].values[0]\n",
    "date"
   ]
  },
  {
   "cell_type": "code",
   "execution_count": 42,
   "id": "65ae3717",
   "metadata": {},
   "outputs": [],
   "source": [
    "pos = find_text(df,'date')"
   ]
  },
  {
   "cell_type": "code",
   "execution_count": 43,
   "id": "e0602742",
   "metadata": {},
   "outputs": [
    {
     "data": {
      "text/html": [
       "<div>\n",
       "<style scoped>\n",
       "    .dataframe tbody tr th:only-of-type {\n",
       "        vertical-align: middle;\n",
       "    }\n",
       "\n",
       "    .dataframe tbody tr th {\n",
       "        vertical-align: top;\n",
       "    }\n",
       "\n",
       "    .dataframe thead th {\n",
       "        text-align: right;\n",
       "    }\n",
       "</style>\n",
       "<table border=\"1\" class=\"dataframe\">\n",
       "  <thead>\n",
       "    <tr style=\"text-align: right;\">\n",
       "      <th></th>\n",
       "      <th>TEXT</th>\n",
       "      <th>X1</th>\n",
       "      <th>Y1</th>\n",
       "      <th>X2</th>\n",
       "      <th>Y2</th>\n",
       "      <th>block_no</th>\n",
       "      <th>line_no</th>\n",
       "    </tr>\n",
       "  </thead>\n",
       "  <tbody>\n",
       "    <tr>\n",
       "      <th>111</th>\n",
       "      <td>VAT</td>\n",
       "      <td>77</td>\n",
       "      <td>529</td>\n",
       "      <td>93</td>\n",
       "      <td>540</td>\n",
       "      <td>34</td>\n",
       "      <td>0</td>\n",
       "    </tr>\n",
       "    <tr>\n",
       "      <th>112</th>\n",
       "      <td>Analysis</td>\n",
       "      <td>96</td>\n",
       "      <td>529</td>\n",
       "      <td>129</td>\n",
       "      <td>540</td>\n",
       "      <td>34</td>\n",
       "      <td>0</td>\n",
       "    </tr>\n",
       "    <tr>\n",
       "      <th>113</th>\n",
       "      <td>Rate</td>\n",
       "      <td>33</td>\n",
       "      <td>539</td>\n",
       "      <td>52</td>\n",
       "      <td>550</td>\n",
       "      <td>35</td>\n",
       "      <td>0</td>\n",
       "    </tr>\n",
       "    <tr>\n",
       "      <th>114</th>\n",
       "      <td>Net</td>\n",
       "      <td>84</td>\n",
       "      <td>539</td>\n",
       "      <td>98</td>\n",
       "      <td>550</td>\n",
       "      <td>35</td>\n",
       "      <td>1</td>\n",
       "    </tr>\n",
       "    <tr>\n",
       "      <th>115</th>\n",
       "      <td>Total</td>\n",
       "      <td>101</td>\n",
       "      <td>539</td>\n",
       "      <td>121</td>\n",
       "      <td>550</td>\n",
       "      <td>35</td>\n",
       "      <td>1</td>\n",
       "    </tr>\n",
       "  </tbody>\n",
       "</table>\n",
       "</div>"
      ],
      "text/plain": [
       "         TEXT   X1   Y1   X2   Y2  block_no  line_no\n",
       "111       VAT   77  529   93  540        34        0\n",
       "112  Analysis   96  529  129  540        34        0\n",
       "113      Rate   33  539   52  550        35        0\n",
       "114       Net   84  539   98  550        35        1\n",
       "115     Total  101  539  121  550        35        1"
      ]
     },
     "execution_count": 43,
     "metadata": {},
     "output_type": "execute_result"
    }
   ],
   "source": [
    "pos = find_text(df,'VAT')\n",
    "df[pos[0]:pos[0]+5]"
   ]
  },
  {
   "cell_type": "code",
   "execution_count": 44,
   "id": "63bee271",
   "metadata": {},
   "outputs": [
    {
     "data": {
      "text/plain": [
       "[111]"
      ]
     },
     "execution_count": 44,
     "metadata": {},
     "output_type": "execute_result"
    }
   ],
   "source": [
    "find_next_word(df,'VAT','Analysis')"
   ]
  },
  {
   "cell_type": "code",
   "execution_count": 45,
   "id": "034c1f05",
   "metadata": {},
   "outputs": [
    {
     "name": "stdout",
     "output_type": "stream",
     "text": [
      "[94, 227, 234]\n",
      "[111]\n"
     ]
    },
    {
     "data": {
      "text/html": [
       "<div>\n",
       "<style scoped>\n",
       "    .dataframe tbody tr th:only-of-type {\n",
       "        vertical-align: middle;\n",
       "    }\n",
       "\n",
       "    .dataframe tbody tr th {\n",
       "        vertical-align: top;\n",
       "    }\n",
       "\n",
       "    .dataframe thead th {\n",
       "        text-align: right;\n",
       "    }\n",
       "</style>\n",
       "<table border=\"1\" class=\"dataframe\">\n",
       "  <thead>\n",
       "    <tr style=\"text-align: right;\">\n",
       "      <th></th>\n",
       "      <th>TEXT</th>\n",
       "      <th>X1</th>\n",
       "      <th>Y1</th>\n",
       "      <th>X2</th>\n",
       "      <th>Y2</th>\n",
       "      <th>block_no</th>\n",
       "      <th>line_no</th>\n",
       "    </tr>\n",
       "  </thead>\n",
       "  <tbody>\n",
       "    <tr>\n",
       "      <th>95</th>\n",
       "      <td>Price</td>\n",
       "      <td>424</td>\n",
       "      <td>328</td>\n",
       "      <td>445</td>\n",
       "      <td>339</td>\n",
       "      <td>16</td>\n",
       "      <td>3</td>\n",
       "    </tr>\n",
       "    <tr>\n",
       "      <th>96</th>\n",
       "      <td>Amount</td>\n",
       "      <td>518</td>\n",
       "      <td>328</td>\n",
       "      <td>550</td>\n",
       "      <td>339</td>\n",
       "      <td>16</td>\n",
       "      <td>4</td>\n",
       "    </tr>\n",
       "    <tr>\n",
       "      <th>97</th>\n",
       "      <td>8</td>\n",
       "      <td>50</td>\n",
       "      <td>349</td>\n",
       "      <td>55</td>\n",
       "      <td>360</td>\n",
       "      <td>27</td>\n",
       "      <td>0</td>\n",
       "    </tr>\n",
       "    <tr>\n",
       "      <th>98</th>\n",
       "      <td>T1EN60X100G</td>\n",
       "      <td>82</td>\n",
       "      <td>349</td>\n",
       "      <td>133</td>\n",
       "      <td>361</td>\n",
       "      <td>27</td>\n",
       "      <td>1</td>\n",
       "    </tr>\n",
       "    <tr>\n",
       "      <th>99</th>\n",
       "      <td>Panel</td>\n",
       "      <td>188</td>\n",
       "      <td>349</td>\n",
       "      <td>208</td>\n",
       "      <td>360</td>\n",
       "      <td>27</td>\n",
       "      <td>2</td>\n",
       "    </tr>\n",
       "    <tr>\n",
       "      <th>100</th>\n",
       "      <td>Trunking</td>\n",
       "      <td>210</td>\n",
       "      <td>349</td>\n",
       "      <td>241</td>\n",
       "      <td>360</td>\n",
       "      <td>27</td>\n",
       "      <td>2</td>\n",
       "    </tr>\n",
       "    <tr>\n",
       "      <th>101</th>\n",
       "      <td>60X100</td>\n",
       "      <td>244</td>\n",
       "      <td>349</td>\n",
       "      <td>271</td>\n",
       "      <td>360</td>\n",
       "      <td>27</td>\n",
       "      <td>2</td>\n",
       "    </tr>\n",
       "    <tr>\n",
       "      <th>102</th>\n",
       "      <td>G</td>\n",
       "      <td>273</td>\n",
       "      <td>349</td>\n",
       "      <td>278</td>\n",
       "      <td>360</td>\n",
       "      <td>27</td>\n",
       "      <td>2</td>\n",
       "    </tr>\n",
       "    <tr>\n",
       "      <th>103</th>\n",
       "      <td>Narrow</td>\n",
       "      <td>281</td>\n",
       "      <td>349</td>\n",
       "      <td>307</td>\n",
       "      <td>360</td>\n",
       "      <td>27</td>\n",
       "      <td>2</td>\n",
       "    </tr>\n",
       "    <tr>\n",
       "      <th>104</th>\n",
       "      <td>Slot</td>\n",
       "      <td>309</td>\n",
       "      <td>349</td>\n",
       "      <td>323</td>\n",
       "      <td>360</td>\n",
       "      <td>27</td>\n",
       "      <td>2</td>\n",
       "    </tr>\n",
       "    <tr>\n",
       "      <th>105</th>\n",
       "      <td>2</td>\n",
       "      <td>325</td>\n",
       "      <td>349</td>\n",
       "      <td>329</td>\n",
       "      <td>360</td>\n",
       "      <td>27</td>\n",
       "      <td>2</td>\n",
       "    </tr>\n",
       "    <tr>\n",
       "      <th>106</th>\n",
       "      <td>Mt</td>\n",
       "      <td>332</td>\n",
       "      <td>349</td>\n",
       "      <td>341</td>\n",
       "      <td>360</td>\n",
       "      <td>27</td>\n",
       "      <td>2</td>\n",
       "    </tr>\n",
       "  </tbody>\n",
       "</table>\n",
       "</div>"
      ],
      "text/plain": [
       "            TEXT   X1   Y1   X2   Y2  block_no  line_no\n",
       "95         Price  424  328  445  339        16        3\n",
       "96        Amount  518  328  550  339        16        4\n",
       "97             8   50  349   55  360        27        0\n",
       "98   T1EN60X100G   82  349  133  361        27        1\n",
       "99         Panel  188  349  208  360        27        2\n",
       "100     Trunking  210  349  241  360        27        2\n",
       "101       60X100  244  349  271  360        27        2\n",
       "102            G  273  349  278  360        27        2\n",
       "103       Narrow  281  349  307  360        27        2\n",
       "104         Slot  309  349  323  360        27        2\n",
       "105            2  325  349  329  360        27        2\n",
       "106           Mt  332  349  341  360        27        2"
      ]
     },
     "execution_count": 45,
     "metadata": {},
     "output_type": "execute_result"
    }
   ],
   "source": [
    "table_start = find_text(df, 'Unit')\n",
    "print(table_start)\n",
    "table_end = find_next_word(df,'VAT','Analysis')\n",
    "print(table_end)\n",
    "table_data = df[table_start[0]:table_end[0]+10]\n",
    "df[95:107]"
   ]
  },
  {
   "cell_type": "code",
   "execution_count": 46,
   "id": "fb0fefee",
   "metadata": {},
   "outputs": [
    {
     "name": "stdout",
     "output_type": "stream",
     "text": [
      "{'desc': ' Panel Trunking 60X100 G Narrow Slot 2 Mt 2585',\n",
      " 'disc': '25.00%',\n",
      " 'part': 'T1EN60X100G',\n",
      " 'qty': '8',\n",
      " 'total': '111.53',\n",
      " 'unit': '18.58831'}\n"
     ]
    }
   ],
   "source": [
    "from pprint import pprint\n",
    "msg = dict()\n",
    "result = list()\n",
    "for index, row in table_data.iterrows():\n",
    "    \n",
    "    if row['X1'] < 60 and row['TEXT'].isdigit(): \n",
    "#         print(row['TEXT'])\n",
    "        msg = dict()\n",
    "        msg['qty'] = row['TEXT']\n",
    "        msg['part'] = ''\n",
    "    \n",
    "    if ('qty' in msg) and (60 < row['X1'] < 90):\n",
    "#         print(row['TEXT'])\n",
    "        msg['part'] = row['TEXT']\n",
    "        msg['desc'] = ''\n",
    "   \n",
    "    if ('desc' in msg) and (180 < row['X1'] < 360):\n",
    "#         print(row['TEXT'])\n",
    "        msg['desc'] = msg['desc'] +\" \"+ row['TEXT']\n",
    "        msg['unit'] = ''\n",
    "   \n",
    "    if ('unit' in msg) and (400  < row['X1'] < 460):\n",
    "#         print(row['TEXT'])\n",
    "        msg['unit'] = row['TEXT']\n",
    "        msg['disc'] = 0\n",
    "        msg['total'] = 0 \n",
    "        \n",
    "    if 'disc' in msg and 470  < row['X1'] < 500:\n",
    "        msg['disc'] = row['TEXT']\n",
    "        msg['total'] = 0\n",
    "        \n",
    "    if 'total' in msg and 520 < row['X1'] < 560:\n",
    "        \n",
    "        msg['total'] = row['TEXT']\n",
    "        pprint(msg)\n",
    "        result.append(msg)\n",
    "        msg = dict()\n",
    "    "
   ]
  },
  {
   "cell_type": "code",
   "execution_count": 48,
   "id": "378e2c30",
   "metadata": {},
   "outputs": [
    {
     "data": {
      "text/plain": [
       "[{'qty': '8',\n",
       "  'part': 'T1EN60X100G',\n",
       "  'desc': ' Panel Trunking 60X100 G Narrow Slot 2 Mt 2585',\n",
       "  'unit': '18.58831',\n",
       "  'disc': '25.00%',\n",
       "  'total': '111.53'}]"
      ]
     },
     "execution_count": 48,
     "metadata": {},
     "output_type": "execute_result"
    }
   ],
   "source": [
    "result"
   ]
  },
  {
   "cell_type": "code",
   "execution_count": 118,
   "id": "bb548a68",
   "metadata": {},
   "outputs": [
    {
     "data": {
      "text/plain": [
       "[]"
      ]
     },
     "execution_count": 118,
     "metadata": {},
     "output_type": "execute_result"
    }
   ],
   "source": [
    "pos_good = find_text(df, 'Goods', case=True)\n",
    "pos_good"
   ]
  },
  {
   "cell_type": "code",
   "execution_count": 12,
   "id": "e4818abb",
   "metadata": {},
   "outputs": [
    {
     "data": {
      "text/plain": [
       "[247]"
      ]
     },
     "execution_count": 12,
     "metadata": {},
     "output_type": "execute_result"
    }
   ],
   "source": [
    "pos_vat = find_text(df, 'V.A.T', case=True)\n",
    "pos_vat"
   ]
  },
  {
   "cell_type": "code",
   "execution_count": 32,
   "id": "47babb74",
   "metadata": {},
   "outputs": [],
   "source": [
    "good_value = df[pos_good[1]+1:pos_good[1]+2]['TEXT'].values[0]"
   ]
  },
  {
   "cell_type": "code",
   "execution_count": 33,
   "id": "e2bc500d",
   "metadata": {},
   "outputs": [],
   "source": [
    "vat_value = df[pos_vat[1]+1:pos_vat[1]+2]['TEXT'].values[0]"
   ]
  },
  {
   "cell_type": "code",
   "execution_count": 34,
   "id": "4cd981fb",
   "metadata": {},
   "outputs": [
    {
     "data": {
      "text/plain": [
       "'€327.94'"
      ]
     },
     "execution_count": 34,
     "metadata": {},
     "output_type": "execute_result"
    }
   ],
   "source": [
    "vat_value"
   ]
  },
  {
   "cell_type": "code",
   "execution_count": 38,
   "id": "3fee3580",
   "metadata": {},
   "outputs": [
    {
     "data": {
      "text/plain": [
       "130"
      ]
     },
     "execution_count": 38,
     "metadata": {},
     "output_type": "execute_result"
    }
   ],
   "source": [
    "pos_total = find_text(df,'Total', True)[0]\n",
    "pos_total"
   ]
  },
  {
   "cell_type": "code",
   "execution_count": 43,
   "id": "2ab6f6fb",
   "metadata": {},
   "outputs": [],
   "source": [
    "total_value = df[pos_total+1:pos_total+2]['TEXT'].values[0]"
   ]
  },
  {
   "cell_type": "code",
   "execution_count": 44,
   "id": "433a4373",
   "metadata": {},
   "outputs": [
    {
     "data": {
      "text/plain": [
       "'€1753.76'"
      ]
     },
     "execution_count": 44,
     "metadata": {},
     "output_type": "execute_result"
    }
   ],
   "source": [
    "total_value"
   ]
  },
  {
   "cell_type": "code",
   "execution_count": 42,
   "id": "66cfce5d",
   "metadata": {},
   "outputs": [
    {
     "data": {
      "text/html": [
       "<div>\n",
       "<style scoped>\n",
       "    .dataframe tbody tr th:only-of-type {\n",
       "        vertical-align: middle;\n",
       "    }\n",
       "\n",
       "    .dataframe tbody tr th {\n",
       "        vertical-align: top;\n",
       "    }\n",
       "\n",
       "    .dataframe thead th {\n",
       "        text-align: right;\n",
       "    }\n",
       "</style>\n",
       "<table border=\"1\" class=\"dataframe\">\n",
       "  <thead>\n",
       "    <tr style=\"text-align: right;\">\n",
       "      <th></th>\n",
       "      <th>TEXT</th>\n",
       "      <th>X1</th>\n",
       "      <th>Y1</th>\n",
       "      <th>X2</th>\n",
       "      <th>Y2</th>\n",
       "      <th>block_no</th>\n",
       "      <th>line_no</th>\n",
       "    </tr>\n",
       "  </thead>\n",
       "  <tbody>\n",
       "    <tr>\n",
       "      <th>131</th>\n",
       "      <td>€1753.76</td>\n",
       "      <td>512</td>\n",
       "      <td>605</td>\n",
       "      <td>552</td>\n",
       "      <td>616</td>\n",
       "      <td>21</td>\n",
       "      <td>1</td>\n",
       "    </tr>\n",
       "  </tbody>\n",
       "</table>\n",
       "</div>"
      ],
      "text/plain": [
       "         TEXT   X1   Y1   X2   Y2  block_no  line_no\n",
       "131  €1753.76  512  605  552  616        21        1"
      ]
     },
     "execution_count": 42,
     "metadata": {},
     "output_type": "execute_result"
    }
   ],
   "source": []
  },
  {
   "cell_type": "code",
   "execution_count": null,
   "id": "b402a341",
   "metadata": {},
   "outputs": [],
   "source": []
  }
 ],
 "metadata": {
  "kernelspec": {
   "display_name": "Python 3",
   "language": "python",
   "name": "python3"
  },
  "language_info": {
   "codemirror_mode": {
    "name": "ipython",
    "version": 3
   },
   "file_extension": ".py",
   "mimetype": "text/x-python",
   "name": "python",
   "nbconvert_exporter": "python",
   "pygments_lexer": "ipython3",
   "version": "3.8.8"
  }
 },
 "nbformat": 4,
 "nbformat_minor": 5
}
