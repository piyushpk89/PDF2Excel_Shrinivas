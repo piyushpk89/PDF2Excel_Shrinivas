{
 "cells": [
  {
   "cell_type": "code",
   "execution_count": 1,
   "id": "6d511e14",
   "metadata": {},
   "outputs": [],
   "source": [
    "# import pandas as pd\n",
    "# df = pd.read_csv('../csv_data/demesne_v1.csv')\n",
    "# df"
   ]
  },
  {
   "cell_type": "code",
   "execution_count": 60,
   "id": "d0f34f2a",
   "metadata": {},
   "outputs": [
    {
     "name": "stdout",
     "output_type": "stream",
     "text": [
      "{'format': 'PDF 1.6', 'title': '', 'author': '', 'subject': '', 'keywords': '', 'creator': 'Rave Reports (http://www.nevrona.com/rave)', 'producer': 'Nevrona Designs', 'creationDate': 'D:20201221094854Z', 'modDate': 'D:20210115092842Z', 'trapped': '', 'encryption': None}\n"
     ]
    },
    {
     "data": {
      "text/html": [
       "<div>\n",
       "<style scoped>\n",
       "    .dataframe tbody tr th:only-of-type {\n",
       "        vertical-align: middle;\n",
       "    }\n",
       "\n",
       "    .dataframe tbody tr th {\n",
       "        vertical-align: top;\n",
       "    }\n",
       "\n",
       "    .dataframe thead th {\n",
       "        text-align: right;\n",
       "    }\n",
       "</style>\n",
       "<table border=\"1\" class=\"dataframe\">\n",
       "  <thead>\n",
       "    <tr style=\"text-align: right;\">\n",
       "      <th></th>\n",
       "      <th>TEXT</th>\n",
       "      <th>X1</th>\n",
       "      <th>Y1</th>\n",
       "      <th>X2</th>\n",
       "      <th>Y2</th>\n",
       "      <th>block_no</th>\n",
       "      <th>line_no</th>\n",
       "      <th>page_no</th>\n",
       "    </tr>\n",
       "  </thead>\n",
       "  <tbody>\n",
       "    <tr>\n",
       "      <th>0</th>\n",
       "      <td>Invoice</td>\n",
       "      <td>511</td>\n",
       "      <td>19</td>\n",
       "      <td>571</td>\n",
       "      <td>41</td>\n",
       "      <td>0</td>\n",
       "      <td>0</td>\n",
       "      <td>1</td>\n",
       "    </tr>\n",
       "    <tr>\n",
       "      <th>1</th>\n",
       "      <td>Kilkenny</td>\n",
       "      <td>19</td>\n",
       "      <td>21</td>\n",
       "      <td>80</td>\n",
       "      <td>40</td>\n",
       "      <td>0</td>\n",
       "      <td>1</td>\n",
       "      <td>1</td>\n",
       "    </tr>\n",
       "    <tr>\n",
       "      <th>2</th>\n",
       "      <td>Welding</td>\n",
       "      <td>84</td>\n",
       "      <td>21</td>\n",
       "      <td>142</td>\n",
       "      <td>40</td>\n",
       "      <td>0</td>\n",
       "      <td>1</td>\n",
       "      <td>1</td>\n",
       "    </tr>\n",
       "    <tr>\n",
       "      <th>3</th>\n",
       "      <td>Supplies</td>\n",
       "      <td>146</td>\n",
       "      <td>21</td>\n",
       "      <td>205</td>\n",
       "      <td>40</td>\n",
       "      <td>0</td>\n",
       "      <td>1</td>\n",
       "      <td>1</td>\n",
       "    </tr>\n",
       "    <tr>\n",
       "      <th>4</th>\n",
       "      <td>Limited</td>\n",
       "      <td>209</td>\n",
       "      <td>21</td>\n",
       "      <td>262</td>\n",
       "      <td>40</td>\n",
       "      <td>0</td>\n",
       "      <td>1</td>\n",
       "      <td>1</td>\n",
       "    </tr>\n",
       "    <tr>\n",
       "      <th>...</th>\n",
       "      <td>...</td>\n",
       "      <td>...</td>\n",
       "      <td>...</td>\n",
       "      <td>...</td>\n",
       "      <td>...</td>\n",
       "      <td>...</td>\n",
       "      <td>...</td>\n",
       "      <td>...</td>\n",
       "    </tr>\n",
       "    <tr>\n",
       "      <th>226</th>\n",
       "      <td>the</td>\n",
       "      <td>353</td>\n",
       "      <td>724</td>\n",
       "      <td>364</td>\n",
       "      <td>735</td>\n",
       "      <td>51</td>\n",
       "      <td>0</td>\n",
       "      <td>1</td>\n",
       "    </tr>\n",
       "    <tr>\n",
       "      <th>227</th>\n",
       "      <td>supplier</td>\n",
       "      <td>367</td>\n",
       "      <td>724</td>\n",
       "      <td>395</td>\n",
       "      <td>735</td>\n",
       "      <td>51</td>\n",
       "      <td>0</td>\n",
       "      <td>1</td>\n",
       "    </tr>\n",
       "    <tr>\n",
       "      <th>228</th>\n",
       "      <td>is</td>\n",
       "      <td>397</td>\n",
       "      <td>724</td>\n",
       "      <td>402</td>\n",
       "      <td>735</td>\n",
       "      <td>51</td>\n",
       "      <td>0</td>\n",
       "      <td>1</td>\n",
       "    </tr>\n",
       "    <tr>\n",
       "      <th>229</th>\n",
       "      <td>discharged.</td>\n",
       "      <td>405</td>\n",
       "      <td>724</td>\n",
       "      <td>446</td>\n",
       "      <td>735</td>\n",
       "      <td>51</td>\n",
       "      <td>0</td>\n",
       "      <td>1</td>\n",
       "    </tr>\n",
       "    <tr>\n",
       "      <th>230</th>\n",
       "      <td>Signature</td>\n",
       "      <td>37</td>\n",
       "      <td>765</td>\n",
       "      <td>106</td>\n",
       "      <td>785</td>\n",
       "      <td>52</td>\n",
       "      <td>0</td>\n",
       "      <td>1</td>\n",
       "    </tr>\n",
       "  </tbody>\n",
       "</table>\n",
       "<p>231 rows × 8 columns</p>\n",
       "</div>"
      ],
      "text/plain": [
       "            TEXT   X1   Y1   X2   Y2  block_no  line_no  page_no\n",
       "0        Invoice  511   19  571   41         0        0        1\n",
       "1       Kilkenny   19   21   80   40         0        1        1\n",
       "2        Welding   84   21  142   40         0        1        1\n",
       "3       Supplies  146   21  205   40         0        1        1\n",
       "4        Limited  209   21  262   40         0        1        1\n",
       "..           ...  ...  ...  ...  ...       ...      ...      ...\n",
       "226          the  353  724  364  735        51        0        1\n",
       "227     supplier  367  724  395  735        51        0        1\n",
       "228           is  397  724  402  735        51        0        1\n",
       "229  discharged.  405  724  446  735        51        0        1\n",
       "230    Signature   37  765  106  785        52        0        1\n",
       "\n",
       "[231 rows x 8 columns]"
      ]
     },
     "execution_count": 60,
     "metadata": {},
     "output_type": "execute_result"
    }
   ],
   "source": [
    "from pdf2df import convert_to_df\n",
    "df = convert_to_df('../pdf_data/Kilkenny/Kilkenny Welding Supplies Limited_Invoice_PL017892_211220094854109.pdf')\n",
    "df"
   ]
  },
  {
   "cell_type": "code",
   "execution_count": 61,
   "id": "0e412448",
   "metadata": {},
   "outputs": [],
   "source": [
    "df= df.sort_values(by=['Y1','X1']).reset_index(drop=True)\n"
   ]
  },
  {
   "cell_type": "code",
   "execution_count": 62,
   "id": "097b5915",
   "metadata": {},
   "outputs": [],
   "source": [
    "def rearrange(df):\n",
    "    for i in range(1, len(df)):\n",
    "        temp=df.loc[i,'Y1'] - df.loc[i-1, 'Y1']\n",
    "        if -5 < temp < 10:\n",
    "            df.loc[i,'Y1'] = df.loc[i-1,'Y1']\n",
    "    \n",
    "    return df.sort_values(by=['Y1','X1']).reset_index(drop=True)\n",
    "    "
   ]
  },
  {
   "cell_type": "code",
   "execution_count": 63,
   "id": "38b23c96",
   "metadata": {},
   "outputs": [],
   "source": [
    "df = rearrange(df)"
   ]
  },
  {
   "cell_type": "code",
   "execution_count": 64,
   "id": "92c08aab",
   "metadata": {},
   "outputs": [],
   "source": [
    "def find_text(temp_df, text,case=False):\n",
    "    location = temp_df[temp_df['TEXT'].str.contains(text,case=case, na=False)].index.tolist()\n",
    "    return location\n",
    "\n",
    "def find_next_word(temp_df, text, nearest_text, case=False):\n",
    "    pos = find_text(temp_df,text,case=case)\n",
    "    pos = [item +1 for item in pos]\n",
    "#     print(pos)\n",
    "    new_pos = list()\n",
    "    for item in pos:\n",
    "#         temp = df.loc[]\n",
    "        temp_value= temp_df.loc[item]['TEXT']\n",
    "#         print(temp_value.lower())\n",
    "       \n",
    "        if temp_value.lower().__contains__(nearest_text.lower()):\n",
    "            new_pos.append(item-1)\n",
    "        \n",
    "    return new_pos"
   ]
  },
  {
   "cell_type": "code",
   "execution_count": 65,
   "id": "e5fce46e",
   "metadata": {},
   "outputs": [
    {
     "data": {
      "text/plain": [
       "'PL017892'"
      ]
     },
     "execution_count": 65,
     "metadata": {},
     "output_type": "execute_result"
    }
   ],
   "source": [
    "pos = find_text(df, 'Number')\n",
    "invoice_no  =df[pos[0]+1:pos[0]+2]['TEXT'].values[0]\n",
    "invoice_no\n"
   ]
  },
  {
   "cell_type": "code",
   "execution_count": 66,
   "id": "3a4fb481",
   "metadata": {},
   "outputs": [
    {
     "data": {
      "text/plain": [
       "'07/12/2020'"
      ]
     },
     "execution_count": 66,
     "metadata": {},
     "output_type": "execute_result"
    }
   ],
   "source": [
    "pos = find_text(df, 'Date')\n",
    "invoice_date = df[pos[0]+1:pos[0]+2]['TEXT'].values[0]\n",
    "invoice_date"
   ]
  },
  {
   "cell_type": "code",
   "execution_count": 67,
   "id": "e0602742",
   "metadata": {},
   "outputs": [
    {
     "data": {
      "text/plain": [
       "[28, 159, 164, 175]"
      ]
     },
     "execution_count": 67,
     "metadata": {},
     "output_type": "execute_result"
    }
   ],
   "source": [
    "find_text(df,'VAT')"
   ]
  },
  {
   "cell_type": "code",
   "execution_count": 68,
   "id": "63bee271",
   "metadata": {},
   "outputs": [
    {
     "data": {
      "text/plain": [
       "[159]"
      ]
     },
     "execution_count": 68,
     "metadata": {},
     "output_type": "execute_result"
    }
   ],
   "source": [
    "find_next_word(df,'VAT','Analysis')"
   ]
  },
  {
   "cell_type": "code",
   "execution_count": 69,
   "id": "034c1f05",
   "metadata": {},
   "outputs": [
    {
     "name": "stdout",
     "output_type": "stream",
     "text": [
      "[85]\n",
      "[159]\n"
     ]
    },
    {
     "data": {
      "text/html": [
       "<div>\n",
       "<style scoped>\n",
       "    .dataframe tbody tr th:only-of-type {\n",
       "        vertical-align: middle;\n",
       "    }\n",
       "\n",
       "    .dataframe tbody tr th {\n",
       "        vertical-align: top;\n",
       "    }\n",
       "\n",
       "    .dataframe thead th {\n",
       "        text-align: right;\n",
       "    }\n",
       "</style>\n",
       "<table border=\"1\" class=\"dataframe\">\n",
       "  <thead>\n",
       "    <tr style=\"text-align: right;\">\n",
       "      <th></th>\n",
       "      <th>TEXT</th>\n",
       "      <th>X1</th>\n",
       "      <th>Y1</th>\n",
       "      <th>X2</th>\n",
       "      <th>Y2</th>\n",
       "      <th>block_no</th>\n",
       "      <th>line_no</th>\n",
       "      <th>page_no</th>\n",
       "    </tr>\n",
       "  </thead>\n",
       "  <tbody>\n",
       "    <tr>\n",
       "      <th>85</th>\n",
       "      <td>Unit</td>\n",
       "      <td>392</td>\n",
       "      <td>250</td>\n",
       "      <td>413</td>\n",
       "      <td>264</td>\n",
       "      <td>10</td>\n",
       "      <td>1</td>\n",
       "      <td>1</td>\n",
       "    </tr>\n",
       "    <tr>\n",
       "      <th>86</th>\n",
       "      <td>Price</td>\n",
       "      <td>416</td>\n",
       "      <td>250</td>\n",
       "      <td>441</td>\n",
       "      <td>264</td>\n",
       "      <td>10</td>\n",
       "      <td>1</td>\n",
       "      <td>1</td>\n",
       "    </tr>\n",
       "    <tr>\n",
       "      <th>87</th>\n",
       "      <td>Discount</td>\n",
       "      <td>455</td>\n",
       "      <td>250</td>\n",
       "      <td>499</td>\n",
       "      <td>264</td>\n",
       "      <td>10</td>\n",
       "      <td>0</td>\n",
       "      <td>1</td>\n",
       "    </tr>\n",
       "    <tr>\n",
       "      <th>88</th>\n",
       "      <td>%</td>\n",
       "      <td>501</td>\n",
       "      <td>250</td>\n",
       "      <td>513</td>\n",
       "      <td>264</td>\n",
       "      <td>10</td>\n",
       "      <td>0</td>\n",
       "      <td>1</td>\n",
       "    </tr>\n",
       "    <tr>\n",
       "      <th>89</th>\n",
       "      <td>Amount</td>\n",
       "      <td>514</td>\n",
       "      <td>250</td>\n",
       "      <td>553</td>\n",
       "      <td>264</td>\n",
       "      <td>8</td>\n",
       "      <td>3</td>\n",
       "      <td>1</td>\n",
       "    </tr>\n",
       "    <tr>\n",
       "      <th>...</th>\n",
       "      <td>...</td>\n",
       "      <td>...</td>\n",
       "      <td>...</td>\n",
       "      <td>...</td>\n",
       "      <td>...</td>\n",
       "      <td>...</td>\n",
       "      <td>...</td>\n",
       "      <td>...</td>\n",
       "    </tr>\n",
       "    <tr>\n",
       "      <th>154</th>\n",
       "      <td>20.00</td>\n",
       "      <td>472</td>\n",
       "      <td>389</td>\n",
       "      <td>497</td>\n",
       "      <td>402</td>\n",
       "      <td>30</td>\n",
       "      <td>3</td>\n",
       "      <td>1</td>\n",
       "    </tr>\n",
       "    <tr>\n",
       "      <th>155</th>\n",
       "      <td>7.55</td>\n",
       "      <td>536</td>\n",
       "      <td>389</td>\n",
       "      <td>555</td>\n",
       "      <td>402</td>\n",
       "      <td>30</td>\n",
       "      <td>1</td>\n",
       "      <td>1</td>\n",
       "    </tr>\n",
       "    <tr>\n",
       "      <th>156</th>\n",
       "      <td>0.37kg</td>\n",
       "      <td>97</td>\n",
       "      <td>401</td>\n",
       "      <td>127</td>\n",
       "      <td>414</td>\n",
       "      <td>29</td>\n",
       "      <td>0</td>\n",
       "      <td>1</td>\n",
       "    </tr>\n",
       "    <tr>\n",
       "      <th>157</th>\n",
       "      <td>/</td>\n",
       "      <td>130</td>\n",
       "      <td>401</td>\n",
       "      <td>134</td>\n",
       "      <td>414</td>\n",
       "      <td>29</td>\n",
       "      <td>0</td>\n",
       "      <td>1</td>\n",
       "    </tr>\n",
       "    <tr>\n",
       "      <th>158</th>\n",
       "      <td>pk5</td>\n",
       "      <td>137</td>\n",
       "      <td>401</td>\n",
       "      <td>152</td>\n",
       "      <td>414</td>\n",
       "      <td>29</td>\n",
       "      <td>0</td>\n",
       "      <td>1</td>\n",
       "    </tr>\n",
       "  </tbody>\n",
       "</table>\n",
       "<p>74 rows × 8 columns</p>\n",
       "</div>"
      ],
      "text/plain": [
       "         TEXT   X1   Y1   X2   Y2  block_no  line_no  page_no\n",
       "85       Unit  392  250  413  264        10        1        1\n",
       "86      Price  416  250  441  264        10        1        1\n",
       "87   Discount  455  250  499  264        10        0        1\n",
       "88          %  501  250  513  264        10        0        1\n",
       "89     Amount  514  250  553  264         8        3        1\n",
       "..        ...  ...  ...  ...  ...       ...      ...      ...\n",
       "154     20.00  472  389  497  402        30        3        1\n",
       "155      7.55  536  389  555  402        30        1        1\n",
       "156    0.37kg   97  401  127  414        29        0        1\n",
       "157         /  130  401  134  414        29        0        1\n",
       "158       pk5  137  401  152  414        29        0        1\n",
       "\n",
       "[74 rows x 8 columns]"
      ]
     },
     "execution_count": 69,
     "metadata": {},
     "output_type": "execute_result"
    }
   ],
   "source": [
    "table_start = find_text(df, 'Unit')\n",
    "print(table_start)\n",
    "table_end = find_next_word(df,'VAT','Analysis')\n",
    "print(table_end)\n",
    "table_data = df[table_start[0]:table_end[0]]\n",
    "table_data"
   ]
  },
  {
   "cell_type": "code",
   "execution_count": 70,
   "id": "fb0fefee",
   "metadata": {},
   "outputs": [
    {
     "name": "stdout",
     "output_type": "stream",
     "text": [
      "{'desc': ' 70SQ WELDING CABLE',\n",
      " 'disc': '35.00',\n",
      " 'part': 'CABWEL070',\n",
      " 'qty': '12.00',\n",
      " 'total': '125.97',\n",
      " 'unit': '16.15'}\n",
      "{'desc': ' 600AMP EARTH CLAMP SCREW TYPE',\n",
      " 'disc': '20.00',\n",
      " 'part': 'EARSCR600',\n",
      " 'qty': '1.00',\n",
      " 'total': '11.70',\n",
      " 'unit': '14.63'}\n",
      "{'desc': ' 70-95SQ Dinze Plug',\n",
      " 'disc': '30.00',\n",
      " 'part': 'DINPLU070',\n",
      " 'qty': '1.00',\n",
      " 'total': '8.68',\n",
      " 'unit': '12.40'}\n",
      "{'desc': ' TIP 1.2MM M8 PKT 10',\n",
      " 'disc': '20.00',\n",
      " 'part': 'FR420001646710',\n",
      " 'qty': '1.00',\n",
      " 'total': '36.10',\n",
      " 'unit': '45.12'}\n",
      "{'desc': ' SPATTER GUARD MTW500I PKT 5',\n",
      " 'disc': '20.00',\n",
      " 'part': 'FR42040508545',\n",
      " 'qty': '0.20',\n",
      " 'total': '3.46',\n",
      " 'unit': '21.64'}\n",
      "{'desc': ' CONICAL NOZZLE MTW500I PKT 5',\n",
      " 'disc': '20.00',\n",
      " 'part': 'FR42000140505',\n",
      " 'qty': '0.20',\n",
      " 'total': '7.55',\n",
      " 'unit': '47.22'}\n"
     ]
    }
   ],
   "source": [
    "from pprint import pprint\n",
    "msg = dict()\n",
    "result = list()\n",
    "for index, row in table_data.iterrows():\n",
    "    if  row['X1'] < 30:\n",
    "#         print(row['TEXT'])\n",
    "        msg = dict()\n",
    "        msg['part'] = row['TEXT']\n",
    "        msg['desc'] = ''\n",
    "    \n",
    "    \n",
    "    elif ('desc' in msg) and (90 < row['X1'] < 300):\n",
    "#         print(row['TEXT'])\n",
    "        msg['desc'] = msg['desc'] +\" \"+ row['TEXT']\n",
    "        msg['qty'] = ''\n",
    "       \n",
    "    elif ('qty' in msg) and (340 < row['X1'] < 374):\n",
    "#         print(row['TEXT'])\n",
    "        msg['qty'] = row['TEXT']\n",
    "        msg['unit'] = ''\n",
    "\n",
    "    if ('unit' in msg) and (400  < row['X1'] < 438):\n",
    "#         print(row['TEXT'])\n",
    "        msg['unit'] = row['TEXT']\n",
    "        msg['disc'] = 0\n",
    "        msg['total'] = 0 \n",
    "        \n",
    "    if 'disc' in msg and 470  < row['X1'] < 500:\n",
    "        msg['disc'] = row['TEXT']\n",
    "        msg['total'] = 0\n",
    "        \n",
    "    if 'total' in msg and 520 < row['X1'] < 560:\n",
    "        msg['total'] = row['TEXT']\n",
    "        pprint(msg)\n",
    "        result.append(msg)\n",
    "        msg = dict()\n",
    "    "
   ]
  },
  {
   "cell_type": "code",
   "execution_count": 71,
   "id": "e9f1ff49",
   "metadata": {},
   "outputs": [
    {
     "data": {
      "text/plain": [
       "6"
      ]
     },
     "execution_count": 71,
     "metadata": {},
     "output_type": "execute_result"
    }
   ],
   "source": [
    "result.__len__()"
   ]
  },
  {
   "cell_type": "code",
   "execution_count": null,
   "id": "1b74029f",
   "metadata": {},
   "outputs": [],
   "source": []
  },
  {
   "cell_type": "code",
   "execution_count": null,
   "id": "dd628feb",
   "metadata": {},
   "outputs": [],
   "source": []
  }
 ],
 "metadata": {
  "kernelspec": {
   "display_name": "Python 3 (ipykernel)",
   "language": "python",
   "name": "python3"
  },
  "language_info": {
   "codemirror_mode": {
    "name": "ipython",
    "version": 3
   },
   "file_extension": ".py",
   "mimetype": "text/x-python",
   "name": "python",
   "nbconvert_exporter": "python",
   "pygments_lexer": "ipython3",
   "version": "3.9.7"
  }
 },
 "nbformat": 4,
 "nbformat_minor": 5
}
