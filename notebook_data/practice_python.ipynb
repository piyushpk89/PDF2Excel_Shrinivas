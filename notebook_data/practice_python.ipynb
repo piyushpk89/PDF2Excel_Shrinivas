{
 "cells": [
  {
   "cell_type": "code",
   "execution_count": 1,
   "id": "6ef9f168",
   "metadata": {},
   "outputs": [],
   "source": [
    "var = 'sdfsdf'\n",
    "my_string = 'the strgin are %s' %var"
   ]
  },
  {
   "cell_type": "code",
   "execution_count": 3,
   "id": "31850214",
   "metadata": {},
   "outputs": [],
   "source": [
    "data = \"aaabbbcccc\""
   ]
  },
  {
   "cell_type": "code",
   "execution_count": 4,
   "id": "9d8cc824",
   "metadata": {},
   "outputs": [],
   "source": [
    "from collections import Counter"
   ]
  },
  {
   "cell_type": "code",
   "execution_count": 6,
   "id": "3c5c080f",
   "metadata": {},
   "outputs": [],
   "source": [
    "home = Counter(data)"
   ]
  },
  {
   "cell_type": "code",
   "execution_count": 9,
   "id": "977a572d",
   "metadata": {},
   "outputs": [
    {
     "name": "stdout",
     "output_type": "stream",
     "text": [
      "a 3\n",
      "b 3\n",
      "c 4\n"
     ]
    }
   ],
   "source": [
    "for key,values in home.items():\n",
    "    print(key,values)"
   ]
  },
  {
   "cell_type": "code",
   "execution_count": 18,
   "id": "b3c23d5b",
   "metadata": {},
   "outputs": [
    {
     "data": {
      "text/plain": [
       "[('c', 4)]"
      ]
     },
     "execution_count": 18,
     "metadata": {},
     "output_type": "execute_result"
    }
   ],
   "source": [
    "home.most_common(1) #print list with tuples \n",
    "# print most common rank wise "
   ]
  },
  {
   "cell_type": "code",
   "execution_count": 21,
   "id": "e888cdd5",
   "metadata": {},
   "outputs": [
    {
     "name": "stdout",
     "output_type": "stream",
     "text": [
      "a\n",
      "a\n",
      "a\n",
      "b\n",
      "b\n",
      "b\n",
      "c\n",
      "c\n",
      "c\n",
      "c\n"
     ]
    }
   ],
   "source": [
    "for item in home.elements():\n",
    "    print(item)"
   ]
  },
  {
   "cell_type": "code",
   "execution_count": 22,
   "id": "9c31acf7",
   "metadata": {},
   "outputs": [],
   "source": [
    "from collections import namedtuple\n",
    "Point = namedtuple('Point','x,y')"
   ]
  },
  {
   "cell_type": "code",
   "execution_count": 29,
   "id": "e8c08e38",
   "metadata": {},
   "outputs": [],
   "source": [
    "pt = Point(12,42)"
   ]
  },
  {
   "cell_type": "code",
   "execution_count": 31,
   "id": "6aa90f2c",
   "metadata": {},
   "outputs": [],
   "source": [
    "from collections import deque "
   ]
  },
  {
   "cell_type": "code",
   "execution_count": 32,
   "id": "456f5872",
   "metadata": {},
   "outputs": [],
   "source": [
    "d = deque()"
   ]
  },
  {
   "cell_type": "code",
   "execution_count": 33,
   "id": "bdb59b98",
   "metadata": {},
   "outputs": [],
   "source": [
    "d.append(1)"
   ]
  },
  {
   "cell_type": "code",
   "execution_count": 34,
   "id": "f76f2a7c",
   "metadata": {},
   "outputs": [
    {
     "data": {
      "text/plain": [
       "deque([1, 2, 3])"
      ]
     },
     "execution_count": 34,
     "metadata": {},
     "output_type": "execute_result"
    }
   ],
   "source": [
    "d.append(2)\n",
    "d.append(3)\n",
    "d"
   ]
  },
  {
   "cell_type": "code",
   "execution_count": 37,
   "id": "e3a6c041",
   "metadata": {},
   "outputs": [],
   "source": [
    "d.extendleft([5,6,7])"
   ]
  },
  {
   "cell_type": "code",
   "execution_count": 38,
   "id": "c1fccbf1",
   "metadata": {},
   "outputs": [
    {
     "data": {
      "text/plain": [
       "deque([7, 6, 5, 1, 2, 3, 5, 6, 7])"
      ]
     },
     "execution_count": 38,
     "metadata": {},
     "output_type": "execute_result"
    }
   ],
   "source": [
    "d"
   ]
  },
  {
   "cell_type": "code",
   "execution_count": 39,
   "id": "b0d5d1ca",
   "metadata": {},
   "outputs": [
    {
     "data": {
      "text/plain": [
       "7"
      ]
     },
     "execution_count": 39,
     "metadata": {},
     "output_type": "execute_result"
    }
   ],
   "source": [
    "d.pop()"
   ]
  },
  {
   "cell_type": "code",
   "execution_count": 40,
   "id": "76dcdf32",
   "metadata": {},
   "outputs": [
    {
     "data": {
      "text/plain": [
       "7"
      ]
     },
     "execution_count": 40,
     "metadata": {},
     "output_type": "execute_result"
    }
   ],
   "source": [
    "d.popleft()"
   ]
  },
  {
   "cell_type": "code",
   "execution_count": 41,
   "id": "128b2280",
   "metadata": {},
   "outputs": [
    {
     "ename": "AttributeError",
     "evalue": "'collections.deque' object has no attribute 'popright'",
     "output_type": "error",
     "traceback": [
      "\u001b[1;31m---------------------------------------------------------------------------\u001b[0m",
      "\u001b[1;31mAttributeError\u001b[0m                            Traceback (most recent call last)",
      "\u001b[1;32m<ipython-input-41-0eef371cb4e1>\u001b[0m in \u001b[0;36m<module>\u001b[1;34m\u001b[0m\n\u001b[1;32m----> 1\u001b[1;33m \u001b[0md\u001b[0m\u001b[1;33m.\u001b[0m\u001b[0mpopright\u001b[0m\u001b[1;33m\u001b[0m\u001b[1;33m\u001b[0m\u001b[0m\n\u001b[0m",
      "\u001b[1;31mAttributeError\u001b[0m: 'collections.deque' object has no attribute 'popright'"
     ]
    }
   ],
   "source": [
    "d.popright"
   ]
  },
  {
   "cell_type": "code",
   "execution_count": 49,
   "id": "3975b3ef",
   "metadata": {},
   "outputs": [
    {
     "data": {
      "text/plain": [
       "deque([6, 5, 1, 2, 3, 5, 6])"
      ]
     },
     "execution_count": 49,
     "metadata": {},
     "output_type": "execute_result"
    }
   ],
   "source": [
    "d.rotate(1)\n",
    "d"
   ]
  },
  {
   "cell_type": "code",
   "execution_count": 50,
   "id": "42773e4f",
   "metadata": {},
   "outputs": [],
   "source": [
    "from itertools import product "
   ]
  },
  {
   "cell_type": "code",
   "execution_count": 58,
   "id": "dea29fe2",
   "metadata": {},
   "outputs": [],
   "source": [
    "a = [1,2]"
   ]
  },
  {
   "cell_type": "code",
   "execution_count": 59,
   "id": "67ece61a",
   "metadata": {},
   "outputs": [],
   "source": [
    "b = [3,4]"
   ]
  },
  {
   "cell_type": "code",
   "execution_count": 60,
   "id": "c6ca8fe9",
   "metadata": {},
   "outputs": [],
   "source": [
    "prod = product(a,b, repeat =2)"
   ]
  },
  {
   "cell_type": "code",
   "execution_count": 61,
   "id": "3769a952",
   "metadata": {},
   "outputs": [
    {
     "data": {
      "text/plain": [
       "[(1, 3, 1, 3),\n",
       " (1, 3, 1, 4),\n",
       " (1, 3, 2, 3),\n",
       " (1, 3, 2, 4),\n",
       " (1, 4, 1, 3),\n",
       " (1, 4, 1, 4),\n",
       " (1, 4, 2, 3),\n",
       " (1, 4, 2, 4),\n",
       " (2, 3, 1, 3),\n",
       " (2, 3, 1, 4),\n",
       " (2, 3, 2, 3),\n",
       " (2, 3, 2, 4),\n",
       " (2, 4, 1, 3),\n",
       " (2, 4, 1, 4),\n",
       " (2, 4, 2, 3),\n",
       " (2, 4, 2, 4)]"
      ]
     },
     "execution_count": 61,
     "metadata": {},
     "output_type": "execute_result"
    }
   ],
   "source": [
    "list(prod)"
   ]
  },
  {
   "cell_type": "code",
   "execution_count": null,
   "id": "38c28bc6",
   "metadata": {},
   "outputs": [],
   "source": []
  }
 ],
 "metadata": {
  "kernelspec": {
   "display_name": "Python 3",
   "language": "python",
   "name": "python3"
  },
  "language_info": {
   "codemirror_mode": {
    "name": "ipython",
    "version": 3
   },
   "file_extension": ".py",
   "mimetype": "text/x-python",
   "name": "python",
   "nbconvert_exporter": "python",
   "pygments_lexer": "ipython3",
   "version": "3.8.8"
  }
 },
 "nbformat": 4,
 "nbformat_minor": 5
}
